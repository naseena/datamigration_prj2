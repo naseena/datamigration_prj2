{
 "cells": [
  {
   "cell_type": "code",
   "execution_count": 1,
   "id": "8e5e8ed9",
   "metadata": {},
   "outputs": [],
   "source": [
    "gm_insert=[\"ADJUD_GROUP_OPERATIONAL_ID\",\"CLIENT_MEMBERSHIP_ID\",\"PERSON_NBR\",\"PATIENT_ID\",\"CARRIER_OPERATIONAL_ID\",\"CONTRACT_OPERATIONAL_ID\",\"PHCY_PRODUCT_SERVICE_ID\",\"PHCY_CLAIM_ID\",\"PHCY_RX_NBR\",\"FILL_DAYS_SUPPLY_QTY\",\"TRANCATION_TYPE_CDE\",\"MAIL_RETAIL_CDE\",\"SERVICED_DTE\",\"COPAY_COST_TIER_SEQ\",\"FILL_DRUG_FORMULARY_IND\",\"MAIL_SERVICE_RX_SRC_CDE\",\"MAIL_SERVICE_RX_NBR\",\"COPAY_PRICING_SUB_OPTION_NBR\",\"GCN_NBR\",\"BRAND_NME\",\"STRENGTH_DSC\",\"DRUG_SUBSTITUTION_CDE\",\"CLAIMNS_SUBMISSION_TYPE_CDE\",\"INTERVENTION_RULE_ID\",\"CLIENT_GUARANTEE_CDE\",\"MAIL_PRODUCT_SERVICE_ID\",\"UMBRELLA_PRODUCT_ID\",\"UMBERELLA_PRODUCT_SERVICE_ID\",\"ELIG_GROUP_OPERATIONAL_ID\",\"MAIL_PHCY_CDE\",\"MAIL_PHCY_FILL_NBR\",\"PHCY_ACCOUNT_NBR\",\"DEA_CDE\",\"WIDGET_FLAG\",\"FILL_PHCY-PROVIDER_ID\",\"FILL_PHCY-PROVIDER_SRC-CDE\",\"PRESCRIBER_PROVIDER_ID\",\"PRESCRIBER_PROVIDER_SRC_CDE\",\"SERVICE_MSG_PRODUCT_ID\",\"SERVICE_MSG_PRODUCT_SRC_CDE\",\"BILLING_DAW_CDE\",\"BILL_PRODUCT_SERVICE_ID\"]"
   ]
  },
  {
   "cell_type": "code",
   "execution_count": 2,
   "id": "51e67249",
   "metadata": {},
   "outputs": [
    {
     "data": {
      "text/plain": [
       "['ADJUD_GROUP_OPERATIONAL_ID',\n",
       " 'CLIENT_MEMBERSHIP_ID',\n",
       " 'PERSON_NBR',\n",
       " 'PATIENT_ID',\n",
       " 'CARRIER_OPERATIONAL_ID',\n",
       " 'CONTRACT_OPERATIONAL_ID',\n",
       " 'PHCY_PRODUCT_SERVICE_ID',\n",
       " 'PHCY_CLAIM_ID',\n",
       " 'PHCY_RX_NBR',\n",
       " 'FILL_DAYS_SUPPLY_QTY',\n",
       " 'TRANCATION_TYPE_CDE',\n",
       " 'MAIL_RETAIL_CDE',\n",
       " 'SERVICED_DTE',\n",
       " 'COPAY_COST_TIER_SEQ',\n",
       " 'FILL_DRUG_FORMULARY_IND',\n",
       " 'MAIL_SERVICE_RX_SRC_CDE',\n",
       " 'MAIL_SERVICE_RX_NBR',\n",
       " 'COPAY_PRICING_SUB_OPTION_NBR',\n",
       " 'GCN_NBR',\n",
       " 'BRAND_NME',\n",
       " 'STRENGTH_DSC',\n",
       " 'DRUG_SUBSTITUTION_CDE',\n",
       " 'CLAIMNS_SUBMISSION_TYPE_CDE',\n",
       " 'INTERVENTION_RULE_ID',\n",
       " 'CLIENT_GUARANTEE_CDE',\n",
       " 'MAIL_PRODUCT_SERVICE_ID',\n",
       " 'UMBRELLA_PRODUCT_ID',\n",
       " 'UMBERELLA_PRODUCT_SERVICE_ID',\n",
       " 'ELIG_GROUP_OPERATIONAL_ID',\n",
       " 'MAIL_PHCY_CDE',\n",
       " 'MAIL_PHCY_FILL_NBR',\n",
       " 'PHCY_ACCOUNT_NBR',\n",
       " 'DEA_CDE',\n",
       " 'WIDGET_FLAG',\n",
       " 'FILL_PHCY-PROVIDER_ID',\n",
       " 'FILL_PHCY-PROVIDER_SRC-CDE',\n",
       " 'PRESCRIBER_PROVIDER_ID',\n",
       " 'PRESCRIBER_PROVIDER_SRC_CDE',\n",
       " 'SERVICE_MSG_PRODUCT_ID',\n",
       " 'SERVICE_MSG_PRODUCT_SRC_CDE',\n",
       " 'BILLING_DAW_CDE',\n",
       " 'BILL_PRODUCT_SERVICE_ID']"
      ]
     },
     "execution_count": 2,
     "metadata": {},
     "output_type": "execute_result"
    }
   ],
   "source": [
    "gm_insert"
   ]
  },
  {
   "cell_type": "code",
   "execution_count": 3,
   "id": "4ad9719b",
   "metadata": {},
   "outputs": [],
   "source": [
    "import pandas as pd\n",
    "gm_xl_table=pd.read_excel(r\"Downloads\\GM_FEP_table.xlsx\",sheet_name='GM_TABLE')"
   ]
  },
  {
   "cell_type": "code",
   "execution_count": 4,
   "id": "3f0fe58e",
   "metadata": {},
   "outputs": [
    {
     "data": {
      "text/html": [
       "<div>\n",
       "<style scoped>\n",
       "    .dataframe tbody tr th:only-of-type {\n",
       "        vertical-align: middle;\n",
       "    }\n",
       "\n",
       "    .dataframe tbody tr th {\n",
       "        vertical-align: top;\n",
       "    }\n",
       "\n",
       "    .dataframe thead th {\n",
       "        text-align: right;\n",
       "    }\n",
       "</style>\n",
       "<table border=\"1\" class=\"dataframe\">\n",
       "  <thead>\n",
       "    <tr style=\"text-align: right;\">\n",
       "      <th></th>\n",
       "      <th>ADJUD_GROUP_OPERATIONAL_ID</th>\n",
       "      <th>CLINENT_MEMBERSHIP_ID</th>\n",
       "      <th>PERSON_NBR</th>\n",
       "      <th>PATIENT_ID</th>\n",
       "      <th>CARRIER_OPERATIONAL_ID</th>\n",
       "      <th>CONTRACT_OPERATIONAL_ID</th>\n",
       "      <th>PHCY_PRODUCT_SERVICE_ID</th>\n",
       "      <th>PHCY_CLAIM_ID</th>\n",
       "      <th>PHCY_RX_NBR</th>\n",
       "      <th>FILL_DAYS_SUPPLY_QTY</th>\n",
       "      <th>...</th>\n",
       "      <th>DEA_CDE</th>\n",
       "      <th>WIDGET_FLAG</th>\n",
       "      <th>FILL_PHCY_PROVIDER_ID</th>\n",
       "      <th>FILL_PHCY_PROVIDER_SRC_CDE</th>\n",
       "      <th>PRESCRIBER_PROVIDER_ID</th>\n",
       "      <th>PRESCRIBER_PROVIDER_SRC_CDE</th>\n",
       "      <th>SERVICE_MSG_PRODUCT_ID</th>\n",
       "      <th>SERVICE_MSG_PRODUCT_SRC_CDE</th>\n",
       "      <th>BILLING_DAW_CDE</th>\n",
       "      <th>BIL_PRODUCT_SERVICE_ID</th>\n",
       "    </tr>\n",
       "  </thead>\n",
       "  <tbody>\n",
       "  </tbody>\n",
       "</table>\n",
       "<p>0 rows × 42 columns</p>\n",
       "</div>"
      ],
      "text/plain": [
       "Empty DataFrame\n",
       "Columns: [ADJUD_GROUP_OPERATIONAL_ID, CLINENT_MEMBERSHIP_ID, PERSON_NBR, PATIENT_ID, CARRIER_OPERATIONAL_ID, CONTRACT_OPERATIONAL_ID, PHCY_PRODUCT_SERVICE_ID, PHCY_CLAIM_ID, PHCY_RX_NBR, FILL_DAYS_SUPPLY_QTY, TRANCATION_TYPE_CDE, MAIL_RETAIL_CDE, SERVICED_DTE, COPY_COST_TIER_SEQ, FILL_DRUG_FORMULARY_IND, MAIL_SERVICE_RX_SRC_CDE, MAIL_SERVICE_RX_NBR, COPY_PRICING_SUB_OPTION_NBR, GCN_NBR, BRAND_NME, STRENGTH_DSC, DRUG_SUBSTITUTION_CDE, CLAIMS_SUBMISSION_TYPE_CDE, INTERVENTION_RULE_ID, CLIENT_GUARANTEE_CDE, MAIL_PRODUCT_SERVICE_ID, UMBRELLA_PRODUCT_ID, UMBRELLA_PRODUCT_SRC_CDE, ELIG_GROUP_OPERATIONAL_ID, MAIL_PHCY_CDE, MAIL_PHCY_FILL_NBR, PHCY_ACCOUNT_NBR, DEA_CDE, WIDGET_FLAG, FILL_PHCY_PROVIDER_ID, FILL_PHCY_PROVIDER_SRC_CDE, PRESCRIBER_PROVIDER_ID, PRESCRIBER_PROVIDER_SRC_CDE, SERVICE_MSG_PRODUCT_ID, SERVICE_MSG_PRODUCT_SRC_CDE, BILLING_DAW_CDE, BIL_PRODUCT_SERVICE_ID]\n",
       "Index: []\n",
       "\n",
       "[0 rows x 42 columns]"
      ]
     },
     "execution_count": 4,
     "metadata": {},
     "output_type": "execute_result"
    }
   ],
   "source": [
    "gm_xl_table"
   ]
  },
  {
   "cell_type": "code",
   "execution_count": 5,
   "id": "438cc9b9",
   "metadata": {},
   "outputs": [
    {
     "data": {
      "text/plain": [
       "Index(['ADJUD_GROUP_OPERATIONAL_ID', 'CLINENT_MEMBERSHIP_ID', 'PERSON_NBR',\n",
       "       'PATIENT_ID', 'CARRIER_OPERATIONAL_ID', 'CONTRACT_OPERATIONAL_ID',\n",
       "       'PHCY_PRODUCT_SERVICE_ID', 'PHCY_CLAIM_ID', 'PHCY_RX_NBR',\n",
       "       'FILL_DAYS_SUPPLY_QTY', 'TRANCATION_TYPE_CDE', 'MAIL_RETAIL_CDE',\n",
       "       'SERVICED_DTE', 'COPY_COST_TIER_SEQ', 'FILL_DRUG_FORMULARY_IND',\n",
       "       'MAIL_SERVICE_RX_SRC_CDE', 'MAIL_SERVICE_RX_NBR',\n",
       "       'COPY_PRICING_SUB_OPTION_NBR', 'GCN_NBR', 'BRAND_NME', 'STRENGTH_DSC',\n",
       "       'DRUG_SUBSTITUTION_CDE', 'CLAIMS_SUBMISSION_TYPE_CDE',\n",
       "       'INTERVENTION_RULE_ID', 'CLIENT_GUARANTEE_CDE',\n",
       "       'MAIL_PRODUCT_SERVICE_ID', 'UMBRELLA_PRODUCT_ID',\n",
       "       'UMBRELLA_PRODUCT_SRC_CDE', 'ELIG_GROUP_OPERATIONAL_ID',\n",
       "       'MAIL_PHCY_CDE', 'MAIL_PHCY_FILL_NBR', 'PHCY_ACCOUNT_NBR', 'DEA_CDE',\n",
       "       'WIDGET_FLAG', 'FILL_PHCY_PROVIDER_ID', 'FILL_PHCY_PROVIDER_SRC_CDE',\n",
       "       'PRESCRIBER_PROVIDER_ID', 'PRESCRIBER_PROVIDER_SRC_CDE',\n",
       "       'SERVICE_MSG_PRODUCT_ID', 'SERVICE_MSG_PRODUCT_SRC_CDE',\n",
       "       'BILLING_DAW_CDE', 'BIL_PRODUCT_SERVICE_ID'],\n",
       "      dtype='object')"
      ]
     },
     "execution_count": 5,
     "metadata": {},
     "output_type": "execute_result"
    }
   ],
   "source": [
    "gm_xl_table.columns"
   ]
  },
  {
   "cell_type": "code",
   "execution_count": 6,
   "id": "a96ed495",
   "metadata": {},
   "outputs": [
    {
     "data": {
      "text/plain": [
       "42"
      ]
     },
     "execution_count": 6,
     "metadata": {},
     "output_type": "execute_result"
    }
   ],
   "source": [
    "len(gm_insert)"
   ]
  },
  {
   "cell_type": "code",
   "execution_count": 7,
   "id": "ab3ecf48",
   "metadata": {},
   "outputs": [],
   "source": [
    "fep_insert=[\"ADJUD_GROUP_OPERATIONAL_ID\",\"CLIENT_MEMBERSHIP_ID\",\"PERSON_NBR\",\"PATIENT_ID\",\"CARRIER_OPERATIONAL_ID\",\"CONTRACT_OPERATIONAL_ID\",\"PHCY_PRODUCT_SERVICE_ID\",\"PHCY_CLAIM_ID\",\"PHCY_RX_NBR\",\"FILL_DAYS_SUPPLY_QTY\",\"TRANCATION_TYPE_CDE\",\"MAIL_RETAIL_CDE\",\"SERVICED_DTE\",\"COPAY_COST_TIER_SEQ\",\"FILL_DRUG_FORMULARY_IND\",\"MAIL_SERVICE_RX_SRC_CDE\",\"MAIL_SERVICE_RX_NBR\",\"COPAY_PRICING_SUB_OPTION_NBR\",\"GCN_NBR\",\"BRAND_NME\",\"STRENGTH_DSC\",\"DRUG_SUBSTITUTION_CDE\",\"CLAIMNS_SUBMISSION_TYPE_CDE\",\"INTERVENTION_RULE_ID\",\"CLIENT_GUARANTEE_CDE\",\"MAIL_PRODUCT_SERVICE_ID\",\"UMBRELLA_PRODUCT_ID\",\"UMBERELLA_PRODUCT_SERVICE_ID\",\"ELIG_GROUP_OPERATIONAL_ID\",\"MAIL_PHCY_CDE\",\"MAIL_PHCY_FILL_NBR\",\"PHCY_ACCOUNT_NBR\",\"DEA_CDE\",\"WIDGET_FLAG\",\"FILL_PHCY-PROVIDER_ID\",\"FILL_PHCY-PROVIDER_SRC-CDE\",\"PRESCRIBER_PROVIDER_ID\",\"PRESCRIBER_PROVIDER_SRC_CDE\",\"SERVICE_MSG_PRODUCT_SRC_CDE\",\"BILLING_DAW_CDE\",\"BILL_PRODUCT_SERVICE_ID\"]"
   ]
  },
  {
   "cell_type": "code",
   "execution_count": 8,
   "id": "ec79dafb",
   "metadata": {},
   "outputs": [
    {
     "data": {
      "text/plain": [
       "['ADJUD_GROUP_OPERATIONAL_ID',\n",
       " 'CLIENT_MEMBERSHIP_ID',\n",
       " 'PERSON_NBR',\n",
       " 'PATIENT_ID',\n",
       " 'CARRIER_OPERATIONAL_ID',\n",
       " 'CONTRACT_OPERATIONAL_ID',\n",
       " 'PHCY_PRODUCT_SERVICE_ID',\n",
       " 'PHCY_CLAIM_ID',\n",
       " 'PHCY_RX_NBR',\n",
       " 'FILL_DAYS_SUPPLY_QTY',\n",
       " 'TRANCATION_TYPE_CDE',\n",
       " 'MAIL_RETAIL_CDE',\n",
       " 'SERVICED_DTE',\n",
       " 'COPAY_COST_TIER_SEQ',\n",
       " 'FILL_DRUG_FORMULARY_IND',\n",
       " 'MAIL_SERVICE_RX_SRC_CDE',\n",
       " 'MAIL_SERVICE_RX_NBR',\n",
       " 'COPAY_PRICING_SUB_OPTION_NBR',\n",
       " 'GCN_NBR',\n",
       " 'BRAND_NME',\n",
       " 'STRENGTH_DSC',\n",
       " 'DRUG_SUBSTITUTION_CDE',\n",
       " 'CLAIMNS_SUBMISSION_TYPE_CDE',\n",
       " 'INTERVENTION_RULE_ID',\n",
       " 'CLIENT_GUARANTEE_CDE',\n",
       " 'MAIL_PRODUCT_SERVICE_ID',\n",
       " 'UMBRELLA_PRODUCT_ID',\n",
       " 'UMBERELLA_PRODUCT_SERVICE_ID',\n",
       " 'ELIG_GROUP_OPERATIONAL_ID',\n",
       " 'MAIL_PHCY_CDE',\n",
       " 'MAIL_PHCY_FILL_NBR',\n",
       " 'PHCY_ACCOUNT_NBR',\n",
       " 'DEA_CDE',\n",
       " 'WIDGET_FLAG',\n",
       " 'FILL_PHCY-PROVIDER_ID',\n",
       " 'FILL_PHCY-PROVIDER_SRC-CDE',\n",
       " 'PRESCRIBER_PROVIDER_ID',\n",
       " 'PRESCRIBER_PROVIDER_SRC_CDE',\n",
       " 'SERVICE_MSG_PRODUCT_SRC_CDE',\n",
       " 'BILLING_DAW_CDE',\n",
       " 'BILL_PRODUCT_SERVICE_ID']"
      ]
     },
     "execution_count": 8,
     "metadata": {},
     "output_type": "execute_result"
    }
   ],
   "source": [
    "fep_insert"
   ]
  },
  {
   "cell_type": "code",
   "execution_count": 9,
   "id": "093bd62a",
   "metadata": {},
   "outputs": [],
   "source": [
    "fep_xl_table=pd.read_excel(r\"Downloads\\GM_FEP_table.xlsx\",sheet_name='FEP_TABLE')"
   ]
  },
  {
   "cell_type": "code",
   "execution_count": 10,
   "id": "cf904877",
   "metadata": {},
   "outputs": [
    {
     "data": {
      "text/html": [
       "<div>\n",
       "<style scoped>\n",
       "    .dataframe tbody tr th:only-of-type {\n",
       "        vertical-align: middle;\n",
       "    }\n",
       "\n",
       "    .dataframe tbody tr th {\n",
       "        vertical-align: top;\n",
       "    }\n",
       "\n",
       "    .dataframe thead th {\n",
       "        text-align: right;\n",
       "    }\n",
       "</style>\n",
       "<table border=\"1\" class=\"dataframe\">\n",
       "  <thead>\n",
       "    <tr style=\"text-align: right;\">\n",
       "      <th></th>\n",
       "      <th>ADJUD_GROUP_OPERATIONAL_ID</th>\n",
       "      <th>CLINENT_MEMBERSHIP_ID</th>\n",
       "      <th>PERSON_NBR</th>\n",
       "      <th>PATIENT_ID</th>\n",
       "      <th>CARRIER_OPERATIONAL_ID</th>\n",
       "      <th>CONTRACT_OPERATIONAL_ID</th>\n",
       "      <th>PHCY_PRODUCT_SERVICE_ID</th>\n",
       "      <th>PHCY_CLAIM_ID</th>\n",
       "      <th>PHCY_RX_NBR</th>\n",
       "      <th>FILL_DAYS_SUPPLY_QTY</th>\n",
       "      <th>...</th>\n",
       "      <th>PHCY_ACCOUNT_NBR</th>\n",
       "      <th>DEA_CDE</th>\n",
       "      <th>WIDGET_FLAG</th>\n",
       "      <th>FILL_PHCY_PROVIDER_ID</th>\n",
       "      <th>FILL_PHCY_PROVIDER_SRC_CDE</th>\n",
       "      <th>PRESCRIBER_PROVIDER_ID</th>\n",
       "      <th>PRESCRIBER_PROVIDER_SRC_CDE</th>\n",
       "      <th>SERVICE_MSG_PRODUCT_SRC_CDE</th>\n",
       "      <th>BILLING_DAW_CDE</th>\n",
       "      <th>BIL_PRODUCT_SERVICE_ID</th>\n",
       "    </tr>\n",
       "  </thead>\n",
       "  <tbody>\n",
       "  </tbody>\n",
       "</table>\n",
       "<p>0 rows × 41 columns</p>\n",
       "</div>"
      ],
      "text/plain": [
       "Empty DataFrame\n",
       "Columns: [ADJUD_GROUP_OPERATIONAL_ID, CLINENT_MEMBERSHIP_ID, PERSON_NBR, PATIENT_ID, CARRIER_OPERATIONAL_ID, CONTRACT_OPERATIONAL_ID, PHCY_PRODUCT_SERVICE_ID, PHCY_CLAIM_ID, PHCY_RX_NBR, FILL_DAYS_SUPPLY_QTY, TRANCATION_TYPE_CDE, MAIL_RETAIL_CDE, SERVICED_DTE, COPAY_COST_TIER_SEQ, FILL_DRUG_FORMULARY_IND, MAIL_SERVICE_RX_SRC_CDE, MAIL_SERVICE_RX_NBR, COPAY_PRICING_SUB_OPTION_NBR, GCN_NBR, BRAND_NME, STRENGTH_DSC, DRUG_SUBSITITUTION_CDE, CLAIM_SUBMISSION_TYPE_CDE, INTERVENTION_RULE_ID, CLIENT_GUARANTEE_CDE, MAIL_PRODUCT_SERVICE_ID, UMBRELLA_PRODUCT_ID, UMBRELLA_PRODUCT_SRC_CDE, ELIG_GROUP_OPERATIONAL_ID, MAIL_PHCY_CDE, MAIL_PHCY_FILL_NBR, PHCY_ACCOUNT_NBR, DEA_CDE, WIDGET_FLAG, FILL_PHCY_PROVIDER_ID, FILL_PHCY_PROVIDER_SRC_CDE, PRESCRIBER_PROVIDER_ID, PRESCRIBER_PROVIDER_SRC_CDE, SERVICE_MSG_PRODUCT_SRC_CDE, BILLING_DAW_CDE, BIL_PRODUCT_SERVICE_ID]\n",
       "Index: []\n",
       "\n",
       "[0 rows x 41 columns]"
      ]
     },
     "execution_count": 10,
     "metadata": {},
     "output_type": "execute_result"
    }
   ],
   "source": [
    "fep_xl_table"
   ]
  },
  {
   "cell_type": "code",
   "execution_count": 12,
   "id": "3ca5c521",
   "metadata": {},
   "outputs": [
    {
     "data": {
      "text/plain": [
       "Index(['ADJUD_GROUP_OPERATIONAL_ID', 'CLINENT_MEMBERSHIP_ID', 'PERSON_NBR',\n",
       "       'PATIENT_ID', 'CARRIER_OPERATIONAL_ID', 'CONTRACT_OPERATIONAL_ID',\n",
       "       'PHCY_PRODUCT_SERVICE_ID', 'PHCY_CLAIM_ID', 'PHCY_RX_NBR',\n",
       "       'FILL_DAYS_SUPPLY_QTY', 'TRANCATION_TYPE_CDE', 'MAIL_RETAIL_CDE',\n",
       "       'SERVICED_DTE', 'COPAY_COST_TIER_SEQ', 'FILL_DRUG_FORMULARY_IND',\n",
       "       'MAIL_SERVICE_RX_SRC_CDE', 'MAIL_SERVICE_RX_NBR',\n",
       "       'COPAY_PRICING_SUB_OPTION_NBR', 'GCN_NBR', 'BRAND_NME', 'STRENGTH_DSC',\n",
       "       'DRUG_SUBSITITUTION_CDE', 'CLAIM_SUBMISSION_TYPE_CDE',\n",
       "       'INTERVENTION_RULE_ID', 'CLIENT_GUARANTEE_CDE',\n",
       "       'MAIL_PRODUCT_SERVICE_ID', 'UMBRELLA_PRODUCT_ID',\n",
       "       'UMBRELLA_PRODUCT_SRC_CDE', 'ELIG_GROUP_OPERATIONAL_ID',\n",
       "       'MAIL_PHCY_CDE', 'MAIL_PHCY_FILL_NBR', 'PHCY_ACCOUNT_NBR', 'DEA_CDE',\n",
       "       'WIDGET_FLAG', 'FILL_PHCY_PROVIDER_ID', 'FILL_PHCY_PROVIDER_SRC_CDE',\n",
       "       'PRESCRIBER_PROVIDER_ID', 'PRESCRIBER_PROVIDER_SRC_CDE',\n",
       "       'SERVICE_MSG_PRODUCT_SRC_CDE', 'BILLING_DAW_CDE',\n",
       "       'BIL_PRODUCT_SERVICE_ID'],\n",
       "      dtype='object')"
      ]
     },
     "execution_count": 12,
     "metadata": {},
     "output_type": "execute_result"
    }
   ],
   "source": [
    "fep_xl_table.columns"
   ]
  },
  {
   "cell_type": "code",
   "execution_count": 14,
   "id": "63f022ca",
   "metadata": {},
   "outputs": [
    {
     "data": {
      "text/plain": [
       "41"
      ]
     },
     "execution_count": 14,
     "metadata": {},
     "output_type": "execute_result"
    }
   ],
   "source": [
    "len(fep_insert)"
   ]
  }
 ],
 "metadata": {
  "kernelspec": {
   "display_name": "Python 3 (ipykernel)",
   "language": "python",
   "name": "python3"
  },
  "language_info": {
   "codemirror_mode": {
    "name": "ipython",
    "version": 3
   },
   "file_extension": ".py",
   "mimetype": "text/x-python",
   "name": "python",
   "nbconvert_exporter": "python",
   "pygments_lexer": "ipython3",
   "version": "3.11.4"
  }
 },
 "nbformat": 4,
 "nbformat_minor": 5
}
