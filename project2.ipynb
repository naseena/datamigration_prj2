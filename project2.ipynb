{
 "cells": [
  {
   "cell_type": "code",
   "execution_count": 1,
   "id": "516cd8e4",
   "metadata": {},
   "outputs": [],
   "source": [
    "import pandas as pd\n",
    "import numpy as np"
   ]
  },
  {
   "cell_type": "code",
   "execution_count": null,
   "id": "03c7f2d9",
   "metadata": {},
   "outputs": [],
   "source": [
    "#import ndc_dcr_list xl file"
   ]
  },
  {
   "cell_type": "code",
   "execution_count": 2,
   "id": "83e88acf",
   "metadata": {},
   "outputs": [],
   "source": [
    "ndc_dcr_list=pd.read_excel(r\"Downloads\\InputFiles (1).xlsx\",sheet_name=\"NDC_DCR_LIST\")"
   ]
  },
  {
   "cell_type": "code",
   "execution_count": 3,
   "id": "61ab7c89",
   "metadata": {},
   "outputs": [
    {
     "data": {
      "text/html": [
       "<div>\n",
       "<style scoped>\n",
       "    .dataframe tbody tr th:only-of-type {\n",
       "        vertical-align: middle;\n",
       "    }\n",
       "\n",
       "    .dataframe tbody tr th {\n",
       "        vertical-align: top;\n",
       "    }\n",
       "\n",
       "    .dataframe thead th {\n",
       "        text-align: right;\n",
       "    }\n",
       "</style>\n",
       "<table border=\"1\" class=\"dataframe\">\n",
       "  <thead>\n",
       "    <tr style=\"text-align: right;\">\n",
       "      <th></th>\n",
       "      <th>NDC_NBR</th>\n",
       "      <th>DCR_DRUG_LST_ID</th>\n",
       "    </tr>\n",
       "  </thead>\n",
       "  <tbody>\n",
       "    <tr>\n",
       "      <th>0</th>\n",
       "      <td>10001</td>\n",
       "      <td>1</td>\n",
       "    </tr>\n",
       "    <tr>\n",
       "      <th>1</th>\n",
       "      <td>10001</td>\n",
       "      <td>2</td>\n",
       "    </tr>\n",
       "    <tr>\n",
       "      <th>2</th>\n",
       "      <td>10001</td>\n",
       "      <td>3</td>\n",
       "    </tr>\n",
       "    <tr>\n",
       "      <th>3</th>\n",
       "      <td>10001</td>\n",
       "      <td>4</td>\n",
       "    </tr>\n",
       "    <tr>\n",
       "      <th>4</th>\n",
       "      <td>10001</td>\n",
       "      <td>5</td>\n",
       "    </tr>\n",
       "    <tr>\n",
       "      <th>...</th>\n",
       "      <td>...</td>\n",
       "      <td>...</td>\n",
       "    </tr>\n",
       "    <tr>\n",
       "      <th>995</th>\n",
       "      <td>10025</td>\n",
       "      <td>44</td>\n",
       "    </tr>\n",
       "    <tr>\n",
       "      <th>996</th>\n",
       "      <td>10025</td>\n",
       "      <td>45</td>\n",
       "    </tr>\n",
       "    <tr>\n",
       "      <th>997</th>\n",
       "      <td>10025</td>\n",
       "      <td>46</td>\n",
       "    </tr>\n",
       "    <tr>\n",
       "      <th>998</th>\n",
       "      <td>10025</td>\n",
       "      <td>47</td>\n",
       "    </tr>\n",
       "    <tr>\n",
       "      <th>999</th>\n",
       "      <td>10025</td>\n",
       "      <td>48</td>\n",
       "    </tr>\n",
       "  </tbody>\n",
       "</table>\n",
       "<p>1000 rows × 2 columns</p>\n",
       "</div>"
      ],
      "text/plain": [
       "     NDC_NBR  DCR_DRUG_LST_ID\n",
       "0      10001                1\n",
       "1      10001                2\n",
       "2      10001                3\n",
       "3      10001                4\n",
       "4      10001                5\n",
       "..       ...              ...\n",
       "995    10025               44\n",
       "996    10025               45\n",
       "997    10025               46\n",
       "998    10025               47\n",
       "999    10025               48\n",
       "\n",
       "[1000 rows x 2 columns]"
      ]
     },
     "execution_count": 3,
     "metadata": {},
     "output_type": "execute_result"
    }
   ],
   "source": [
    "ndc_dcr_list"
   ]
  },
  {
   "cell_type": "code",
   "execution_count": null,
   "id": "b0732c94",
   "metadata": {},
   "outputs": [],
   "source": [
    "#basic checks ndc_dcr_list"
   ]
  },
  {
   "cell_type": "code",
   "execution_count": 4,
   "id": "318e0fec",
   "metadata": {},
   "outputs": [
    {
     "data": {
      "text/plain": [
       "(1000, 2)"
      ]
     },
     "execution_count": 4,
     "metadata": {},
     "output_type": "execute_result"
    }
   ],
   "source": [
    "ndc_dcr_list.shape"
   ]
  },
  {
   "cell_type": "code",
   "execution_count": 5,
   "id": "fa46b02c",
   "metadata": {},
   "outputs": [
    {
     "data": {
      "text/html": [
       "<div>\n",
       "<style scoped>\n",
       "    .dataframe tbody tr th:only-of-type {\n",
       "        vertical-align: middle;\n",
       "    }\n",
       "\n",
       "    .dataframe tbody tr th {\n",
       "        vertical-align: top;\n",
       "    }\n",
       "\n",
       "    .dataframe thead th {\n",
       "        text-align: right;\n",
       "    }\n",
       "</style>\n",
       "<table border=\"1\" class=\"dataframe\">\n",
       "  <thead>\n",
       "    <tr style=\"text-align: right;\">\n",
       "      <th></th>\n",
       "      <th>NDC_NBR</th>\n",
       "      <th>DCR_DRUG_LST_ID</th>\n",
       "    </tr>\n",
       "  </thead>\n",
       "  <tbody>\n",
       "    <tr>\n",
       "      <th>0</th>\n",
       "      <td>10001</td>\n",
       "      <td>1</td>\n",
       "    </tr>\n",
       "    <tr>\n",
       "      <th>1</th>\n",
       "      <td>10001</td>\n",
       "      <td>2</td>\n",
       "    </tr>\n",
       "    <tr>\n",
       "      <th>2</th>\n",
       "      <td>10001</td>\n",
       "      <td>3</td>\n",
       "    </tr>\n",
       "    <tr>\n",
       "      <th>3</th>\n",
       "      <td>10001</td>\n",
       "      <td>4</td>\n",
       "    </tr>\n",
       "    <tr>\n",
       "      <th>4</th>\n",
       "      <td>10001</td>\n",
       "      <td>5</td>\n",
       "    </tr>\n",
       "  </tbody>\n",
       "</table>\n",
       "</div>"
      ],
      "text/plain": [
       "   NDC_NBR  DCR_DRUG_LST_ID\n",
       "0    10001                1\n",
       "1    10001                2\n",
       "2    10001                3\n",
       "3    10001                4\n",
       "4    10001                5"
      ]
     },
     "execution_count": 5,
     "metadata": {},
     "output_type": "execute_result"
    }
   ],
   "source": [
    "ndc_dcr_list.head()"
   ]
  },
  {
   "cell_type": "code",
   "execution_count": 6,
   "id": "57032171",
   "metadata": {},
   "outputs": [
    {
     "data": {
      "text/html": [
       "<div>\n",
       "<style scoped>\n",
       "    .dataframe tbody tr th:only-of-type {\n",
       "        vertical-align: middle;\n",
       "    }\n",
       "\n",
       "    .dataframe tbody tr th {\n",
       "        vertical-align: top;\n",
       "    }\n",
       "\n",
       "    .dataframe thead th {\n",
       "        text-align: right;\n",
       "    }\n",
       "</style>\n",
       "<table border=\"1\" class=\"dataframe\">\n",
       "  <thead>\n",
       "    <tr style=\"text-align: right;\">\n",
       "      <th></th>\n",
       "      <th>NDC_NBR</th>\n",
       "      <th>DCR_DRUG_LST_ID</th>\n",
       "    </tr>\n",
       "  </thead>\n",
       "  <tbody>\n",
       "    <tr>\n",
       "      <th>995</th>\n",
       "      <td>10025</td>\n",
       "      <td>44</td>\n",
       "    </tr>\n",
       "    <tr>\n",
       "      <th>996</th>\n",
       "      <td>10025</td>\n",
       "      <td>45</td>\n",
       "    </tr>\n",
       "    <tr>\n",
       "      <th>997</th>\n",
       "      <td>10025</td>\n",
       "      <td>46</td>\n",
       "    </tr>\n",
       "    <tr>\n",
       "      <th>998</th>\n",
       "      <td>10025</td>\n",
       "      <td>47</td>\n",
       "    </tr>\n",
       "    <tr>\n",
       "      <th>999</th>\n",
       "      <td>10025</td>\n",
       "      <td>48</td>\n",
       "    </tr>\n",
       "  </tbody>\n",
       "</table>\n",
       "</div>"
      ],
      "text/plain": [
       "     NDC_NBR  DCR_DRUG_LST_ID\n",
       "995    10025               44\n",
       "996    10025               45\n",
       "997    10025               46\n",
       "998    10025               47\n",
       "999    10025               48"
      ]
     },
     "execution_count": 6,
     "metadata": {},
     "output_type": "execute_result"
    }
   ],
   "source": [
    "ndc_dcr_list.tail()"
   ]
  },
  {
   "cell_type": "code",
   "execution_count": 7,
   "id": "73a33781",
   "metadata": {},
   "outputs": [
    {
     "data": {
      "text/plain": [
       "Index(['NDC_NBR', 'DCR_DRUG_LST_ID'], dtype='object')"
      ]
     },
     "execution_count": 7,
     "metadata": {},
     "output_type": "execute_result"
    }
   ],
   "source": [
    "ndc_dcr_list.columns"
   ]
  },
  {
   "cell_type": "code",
   "execution_count": 8,
   "id": "6215aa61",
   "metadata": {},
   "outputs": [
    {
     "data": {
      "text/plain": [
       "NDC_NBR            int64\n",
       "DCR_DRUG_LST_ID    int64\n",
       "dtype: object"
      ]
     },
     "execution_count": 8,
     "metadata": {},
     "output_type": "execute_result"
    }
   ],
   "source": [
    "ndc_dcr_list.dtypes"
   ]
  },
  {
   "cell_type": "code",
   "execution_count": null,
   "id": "b989b76f",
   "metadata": {},
   "outputs": [],
   "source": [
    "# import ndc_dcr_list_hist"
   ]
  },
  {
   "cell_type": "code",
   "execution_count": 9,
   "id": "3799d645",
   "metadata": {},
   "outputs": [],
   "source": [
    "ndc_dcr_list_hist=pd.read_excel(r\"Downloads\\InputFiles (1).xlsx\",sheet_name=\"NDC_DCR_LIST_HIST\")"
   ]
  },
  {
   "cell_type": "code",
   "execution_count": 10,
   "id": "1f084bf1",
   "metadata": {},
   "outputs": [
    {
     "data": {
      "text/html": [
       "<div>\n",
       "<style scoped>\n",
       "    .dataframe tbody tr th:only-of-type {\n",
       "        vertical-align: middle;\n",
       "    }\n",
       "\n",
       "    .dataframe tbody tr th {\n",
       "        vertical-align: top;\n",
       "    }\n",
       "\n",
       "    .dataframe thead th {\n",
       "        text-align: right;\n",
       "    }\n",
       "</style>\n",
       "<table border=\"1\" class=\"dataframe\">\n",
       "  <thead>\n",
       "    <tr style=\"text-align: right;\">\n",
       "      <th></th>\n",
       "      <th>NDC_NBR</th>\n",
       "      <th>DCR_DRUG_LST_ID</th>\n",
       "      <th>INSERT_DATE</th>\n",
       "      <th>DROP_DATE</th>\n",
       "    </tr>\n",
       "  </thead>\n",
       "  <tbody>\n",
       "    <tr>\n",
       "      <th>0</th>\n",
       "      <td>10005</td>\n",
       "      <td>47.0</td>\n",
       "      <td>2021-08-15</td>\n",
       "      <td>2024-09-03</td>\n",
       "    </tr>\n",
       "    <tr>\n",
       "      <th>1</th>\n",
       "      <td>10005</td>\n",
       "      <td>48.0</td>\n",
       "      <td>2022-04-20</td>\n",
       "      <td>2024-09-03</td>\n",
       "    </tr>\n",
       "    <tr>\n",
       "      <th>2</th>\n",
       "      <td>10005</td>\n",
       "      <td>49.0</td>\n",
       "      <td>2020-07-15</td>\n",
       "      <td>2022-07-05</td>\n",
       "    </tr>\n",
       "    <tr>\n",
       "      <th>3</th>\n",
       "      <td>10005</td>\n",
       "      <td>50.0</td>\n",
       "      <td>2021-04-03</td>\n",
       "      <td>2022-07-05</td>\n",
       "    </tr>\n",
       "    <tr>\n",
       "      <th>4</th>\n",
       "      <td>10005</td>\n",
       "      <td>51.0</td>\n",
       "      <td>2022-09-01</td>\n",
       "      <td>2024-09-03</td>\n",
       "    </tr>\n",
       "    <tr>\n",
       "      <th>...</th>\n",
       "      <td>...</td>\n",
       "      <td>...</td>\n",
       "      <td>...</td>\n",
       "      <td>...</td>\n",
       "    </tr>\n",
       "    <tr>\n",
       "      <th>1923</th>\n",
       "      <td>10060</td>\n",
       "      <td>28.0</td>\n",
       "      <td>2022-09-01</td>\n",
       "      <td>2024-09-03</td>\n",
       "    </tr>\n",
       "    <tr>\n",
       "      <th>1924</th>\n",
       "      <td>10060</td>\n",
       "      <td>29.0</td>\n",
       "      <td>2021-04-07</td>\n",
       "      <td>2024-09-03</td>\n",
       "    </tr>\n",
       "    <tr>\n",
       "      <th>1925</th>\n",
       "      <td>10060</td>\n",
       "      <td>30.0</td>\n",
       "      <td>2022-04-20</td>\n",
       "      <td>2024-09-03</td>\n",
       "    </tr>\n",
       "    <tr>\n",
       "      <th>1926</th>\n",
       "      <td>10060</td>\n",
       "      <td>31.0</td>\n",
       "      <td>2021-04-03</td>\n",
       "      <td>2024-09-03</td>\n",
       "    </tr>\n",
       "    <tr>\n",
       "      <th>1927</th>\n",
       "      <td>10060</td>\n",
       "      <td>32.0</td>\n",
       "      <td>2022-09-01</td>\n",
       "      <td>2024-09-03</td>\n",
       "    </tr>\n",
       "  </tbody>\n",
       "</table>\n",
       "<p>1928 rows × 4 columns</p>\n",
       "</div>"
      ],
      "text/plain": [
       "      NDC_NBR  DCR_DRUG_LST_ID INSERT_DATE  DROP_DATE\n",
       "0       10005             47.0  2021-08-15 2024-09-03\n",
       "1       10005             48.0  2022-04-20 2024-09-03\n",
       "2       10005             49.0  2020-07-15 2022-07-05\n",
       "3       10005             50.0  2021-04-03 2022-07-05\n",
       "4       10005             51.0  2022-09-01 2024-09-03\n",
       "...       ...              ...         ...        ...\n",
       "1923    10060             28.0  2022-09-01 2024-09-03\n",
       "1924    10060             29.0  2021-04-07 2024-09-03\n",
       "1925    10060             30.0  2022-04-20 2024-09-03\n",
       "1926    10060             31.0  2021-04-03 2024-09-03\n",
       "1927    10060             32.0  2022-09-01 2024-09-03\n",
       "\n",
       "[1928 rows x 4 columns]"
      ]
     },
     "execution_count": 10,
     "metadata": {},
     "output_type": "execute_result"
    }
   ],
   "source": [
    "ndc_dcr_list_hist"
   ]
  },
  {
   "cell_type": "code",
   "execution_count": null,
   "id": "14454b26",
   "metadata": {},
   "outputs": [],
   "source": [
    "#basic checks ndc_dcr_list_hist"
   ]
  },
  {
   "cell_type": "code",
   "execution_count": 11,
   "id": "8559a867",
   "metadata": {},
   "outputs": [
    {
     "data": {
      "text/plain": [
       "(1928, 4)"
      ]
     },
     "execution_count": 11,
     "metadata": {},
     "output_type": "execute_result"
    }
   ],
   "source": [
    "ndc_dcr_list_hist.shape"
   ]
  },
  {
   "cell_type": "code",
   "execution_count": 12,
   "id": "718ca76c",
   "metadata": {},
   "outputs": [
    {
     "data": {
      "text/html": [
       "<div>\n",
       "<style scoped>\n",
       "    .dataframe tbody tr th:only-of-type {\n",
       "        vertical-align: middle;\n",
       "    }\n",
       "\n",
       "    .dataframe tbody tr th {\n",
       "        vertical-align: top;\n",
       "    }\n",
       "\n",
       "    .dataframe thead th {\n",
       "        text-align: right;\n",
       "    }\n",
       "</style>\n",
       "<table border=\"1\" class=\"dataframe\">\n",
       "  <thead>\n",
       "    <tr style=\"text-align: right;\">\n",
       "      <th></th>\n",
       "      <th>NDC_NBR</th>\n",
       "      <th>DCR_DRUG_LST_ID</th>\n",
       "      <th>INSERT_DATE</th>\n",
       "      <th>DROP_DATE</th>\n",
       "    </tr>\n",
       "  </thead>\n",
       "  <tbody>\n",
       "    <tr>\n",
       "      <th>0</th>\n",
       "      <td>10005</td>\n",
       "      <td>47.0</td>\n",
       "      <td>2021-08-15</td>\n",
       "      <td>2024-09-03</td>\n",
       "    </tr>\n",
       "    <tr>\n",
       "      <th>1</th>\n",
       "      <td>10005</td>\n",
       "      <td>48.0</td>\n",
       "      <td>2022-04-20</td>\n",
       "      <td>2024-09-03</td>\n",
       "    </tr>\n",
       "    <tr>\n",
       "      <th>2</th>\n",
       "      <td>10005</td>\n",
       "      <td>49.0</td>\n",
       "      <td>2020-07-15</td>\n",
       "      <td>2022-07-05</td>\n",
       "    </tr>\n",
       "    <tr>\n",
       "      <th>3</th>\n",
       "      <td>10005</td>\n",
       "      <td>50.0</td>\n",
       "      <td>2021-04-03</td>\n",
       "      <td>2022-07-05</td>\n",
       "    </tr>\n",
       "    <tr>\n",
       "      <th>4</th>\n",
       "      <td>10005</td>\n",
       "      <td>51.0</td>\n",
       "      <td>2022-09-01</td>\n",
       "      <td>2024-09-03</td>\n",
       "    </tr>\n",
       "  </tbody>\n",
       "</table>\n",
       "</div>"
      ],
      "text/plain": [
       "   NDC_NBR  DCR_DRUG_LST_ID INSERT_DATE  DROP_DATE\n",
       "0    10005             47.0  2021-08-15 2024-09-03\n",
       "1    10005             48.0  2022-04-20 2024-09-03\n",
       "2    10005             49.0  2020-07-15 2022-07-05\n",
       "3    10005             50.0  2021-04-03 2022-07-05\n",
       "4    10005             51.0  2022-09-01 2024-09-03"
      ]
     },
     "execution_count": 12,
     "metadata": {},
     "output_type": "execute_result"
    }
   ],
   "source": [
    "ndc_dcr_list_hist.head()"
   ]
  },
  {
   "cell_type": "code",
   "execution_count": 13,
   "id": "935ea4ca",
   "metadata": {},
   "outputs": [
    {
     "data": {
      "text/html": [
       "<div>\n",
       "<style scoped>\n",
       "    .dataframe tbody tr th:only-of-type {\n",
       "        vertical-align: middle;\n",
       "    }\n",
       "\n",
       "    .dataframe tbody tr th {\n",
       "        vertical-align: top;\n",
       "    }\n",
       "\n",
       "    .dataframe thead th {\n",
       "        text-align: right;\n",
       "    }\n",
       "</style>\n",
       "<table border=\"1\" class=\"dataframe\">\n",
       "  <thead>\n",
       "    <tr style=\"text-align: right;\">\n",
       "      <th></th>\n",
       "      <th>NDC_NBR</th>\n",
       "      <th>DCR_DRUG_LST_ID</th>\n",
       "      <th>INSERT_DATE</th>\n",
       "      <th>DROP_DATE</th>\n",
       "    </tr>\n",
       "  </thead>\n",
       "  <tbody>\n",
       "    <tr>\n",
       "      <th>1923</th>\n",
       "      <td>10060</td>\n",
       "      <td>28.0</td>\n",
       "      <td>2022-09-01</td>\n",
       "      <td>2024-09-03</td>\n",
       "    </tr>\n",
       "    <tr>\n",
       "      <th>1924</th>\n",
       "      <td>10060</td>\n",
       "      <td>29.0</td>\n",
       "      <td>2021-04-07</td>\n",
       "      <td>2024-09-03</td>\n",
       "    </tr>\n",
       "    <tr>\n",
       "      <th>1925</th>\n",
       "      <td>10060</td>\n",
       "      <td>30.0</td>\n",
       "      <td>2022-04-20</td>\n",
       "      <td>2024-09-03</td>\n",
       "    </tr>\n",
       "    <tr>\n",
       "      <th>1926</th>\n",
       "      <td>10060</td>\n",
       "      <td>31.0</td>\n",
       "      <td>2021-04-03</td>\n",
       "      <td>2024-09-03</td>\n",
       "    </tr>\n",
       "    <tr>\n",
       "      <th>1927</th>\n",
       "      <td>10060</td>\n",
       "      <td>32.0</td>\n",
       "      <td>2022-09-01</td>\n",
       "      <td>2024-09-03</td>\n",
       "    </tr>\n",
       "  </tbody>\n",
       "</table>\n",
       "</div>"
      ],
      "text/plain": [
       "      NDC_NBR  DCR_DRUG_LST_ID INSERT_DATE  DROP_DATE\n",
       "1923    10060             28.0  2022-09-01 2024-09-03\n",
       "1924    10060             29.0  2021-04-07 2024-09-03\n",
       "1925    10060             30.0  2022-04-20 2024-09-03\n",
       "1926    10060             31.0  2021-04-03 2024-09-03\n",
       "1927    10060             32.0  2022-09-01 2024-09-03"
      ]
     },
     "execution_count": 13,
     "metadata": {},
     "output_type": "execute_result"
    }
   ],
   "source": [
    "ndc_dcr_list_hist.tail()"
   ]
  },
  {
   "cell_type": "code",
   "execution_count": 14,
   "id": "b04df83a",
   "metadata": {},
   "outputs": [
    {
     "data": {
      "text/plain": [
       "Index(['NDC_NBR', 'DCR_DRUG_LST_ID', 'INSERT_DATE', 'DROP_DATE'], dtype='object')"
      ]
     },
     "execution_count": 14,
     "metadata": {},
     "output_type": "execute_result"
    }
   ],
   "source": [
    "ndc_dcr_list_hist.columns"
   ]
  },
  {
   "cell_type": "code",
   "execution_count": 15,
   "id": "3f1a7f0c",
   "metadata": {},
   "outputs": [
    {
     "data": {
      "text/plain": [
       "NDC_NBR                     int64\n",
       "DCR_DRUG_LST_ID           float64\n",
       "INSERT_DATE        datetime64[ns]\n",
       "DROP_DATE          datetime64[ns]\n",
       "dtype: object"
      ]
     },
     "execution_count": 15,
     "metadata": {},
     "output_type": "execute_result"
    }
   ],
   "source": [
    "ndc_dcr_list_hist.dtypes"
   ]
  },
  {
   "cell_type": "code",
   "execution_count": null,
   "id": "8d6144ed",
   "metadata": {},
   "outputs": [],
   "source": [
    "#change ndc_dcr_list_hist into ndc_dcr_list_hist1"
   ]
  },
  {
   "cell_type": "code",
   "execution_count": 16,
   "id": "27ffba0e",
   "metadata": {},
   "outputs": [],
   "source": [
    "ndc_dcr_list_hist1=ndc_dcr_list_hist"
   ]
  },
  {
   "cell_type": "code",
   "execution_count": 17,
   "id": "72e5f0e3",
   "metadata": {},
   "outputs": [
    {
     "data": {
      "text/html": [
       "<div>\n",
       "<style scoped>\n",
       "    .dataframe tbody tr th:only-of-type {\n",
       "        vertical-align: middle;\n",
       "    }\n",
       "\n",
       "    .dataframe tbody tr th {\n",
       "        vertical-align: top;\n",
       "    }\n",
       "\n",
       "    .dataframe thead th {\n",
       "        text-align: right;\n",
       "    }\n",
       "</style>\n",
       "<table border=\"1\" class=\"dataframe\">\n",
       "  <thead>\n",
       "    <tr style=\"text-align: right;\">\n",
       "      <th></th>\n",
       "      <th>NDC_NBR</th>\n",
       "      <th>DCR_DRUG_LST_ID</th>\n",
       "      <th>INSERT_DATE</th>\n",
       "      <th>DROP_DATE</th>\n",
       "    </tr>\n",
       "  </thead>\n",
       "  <tbody>\n",
       "    <tr>\n",
       "      <th>0</th>\n",
       "      <td>10005</td>\n",
       "      <td>47.0</td>\n",
       "      <td>2021-08-15</td>\n",
       "      <td>2024-09-03</td>\n",
       "    </tr>\n",
       "    <tr>\n",
       "      <th>1</th>\n",
       "      <td>10005</td>\n",
       "      <td>48.0</td>\n",
       "      <td>2022-04-20</td>\n",
       "      <td>2024-09-03</td>\n",
       "    </tr>\n",
       "    <tr>\n",
       "      <th>2</th>\n",
       "      <td>10005</td>\n",
       "      <td>49.0</td>\n",
       "      <td>2020-07-15</td>\n",
       "      <td>2022-07-05</td>\n",
       "    </tr>\n",
       "    <tr>\n",
       "      <th>3</th>\n",
       "      <td>10005</td>\n",
       "      <td>50.0</td>\n",
       "      <td>2021-04-03</td>\n",
       "      <td>2022-07-05</td>\n",
       "    </tr>\n",
       "    <tr>\n",
       "      <th>4</th>\n",
       "      <td>10005</td>\n",
       "      <td>51.0</td>\n",
       "      <td>2022-09-01</td>\n",
       "      <td>2024-09-03</td>\n",
       "    </tr>\n",
       "    <tr>\n",
       "      <th>...</th>\n",
       "      <td>...</td>\n",
       "      <td>...</td>\n",
       "      <td>...</td>\n",
       "      <td>...</td>\n",
       "    </tr>\n",
       "    <tr>\n",
       "      <th>1923</th>\n",
       "      <td>10060</td>\n",
       "      <td>28.0</td>\n",
       "      <td>2022-09-01</td>\n",
       "      <td>2024-09-03</td>\n",
       "    </tr>\n",
       "    <tr>\n",
       "      <th>1924</th>\n",
       "      <td>10060</td>\n",
       "      <td>29.0</td>\n",
       "      <td>2021-04-07</td>\n",
       "      <td>2024-09-03</td>\n",
       "    </tr>\n",
       "    <tr>\n",
       "      <th>1925</th>\n",
       "      <td>10060</td>\n",
       "      <td>30.0</td>\n",
       "      <td>2022-04-20</td>\n",
       "      <td>2024-09-03</td>\n",
       "    </tr>\n",
       "    <tr>\n",
       "      <th>1926</th>\n",
       "      <td>10060</td>\n",
       "      <td>31.0</td>\n",
       "      <td>2021-04-03</td>\n",
       "      <td>2024-09-03</td>\n",
       "    </tr>\n",
       "    <tr>\n",
       "      <th>1927</th>\n",
       "      <td>10060</td>\n",
       "      <td>32.0</td>\n",
       "      <td>2022-09-01</td>\n",
       "      <td>2024-09-03</td>\n",
       "    </tr>\n",
       "  </tbody>\n",
       "</table>\n",
       "<p>1928 rows × 4 columns</p>\n",
       "</div>"
      ],
      "text/plain": [
       "      NDC_NBR  DCR_DRUG_LST_ID INSERT_DATE  DROP_DATE\n",
       "0       10005             47.0  2021-08-15 2024-09-03\n",
       "1       10005             48.0  2022-04-20 2024-09-03\n",
       "2       10005             49.0  2020-07-15 2022-07-05\n",
       "3       10005             50.0  2021-04-03 2022-07-05\n",
       "4       10005             51.0  2022-09-01 2024-09-03\n",
       "...       ...              ...         ...        ...\n",
       "1923    10060             28.0  2022-09-01 2024-09-03\n",
       "1924    10060             29.0  2021-04-07 2024-09-03\n",
       "1925    10060             30.0  2022-04-20 2024-09-03\n",
       "1926    10060             31.0  2021-04-03 2024-09-03\n",
       "1927    10060             32.0  2022-09-01 2024-09-03\n",
       "\n",
       "[1928 rows x 4 columns]"
      ]
     },
     "execution_count": 17,
     "metadata": {},
     "output_type": "execute_result"
    }
   ],
   "source": [
    "ndc_dcr_list_hist1"
   ]
  },
  {
   "cell_type": "code",
   "execution_count": null,
   "id": "860e9fae",
   "metadata": {},
   "outputs": [],
   "source": [
    "#import date"
   ]
  },
  {
   "cell_type": "code",
   "execution_count": 18,
   "id": "df6db481",
   "metadata": {},
   "outputs": [
    {
     "name": "stdout",
     "output_type": "stream",
     "text": [
      "2023-09-05\n"
     ]
    }
   ],
   "source": [
    "from datetime import date\n",
    "current_date=date.today()\n",
    "print(current_date)"
   ]
  },
  {
   "cell_type": "code",
   "execution_count": null,
   "id": "237f2144",
   "metadata": {},
   "outputs": [],
   "source": [
    "#update dropdate into futuredate&future not date"
   ]
  },
  {
   "cell_type": "code",
   "execution_count": 19,
   "id": "f7bc08d5",
   "metadata": {},
   "outputs": [],
   "source": [
    "ndc_dcr_list_hist1_fudt=ndc_dcr_list_hist1[ndc_dcr_list_hist1['DROP_DATE']==\"2024-09-03\"]\n",
    "ndc_dcr_list_hist1_fudt_nt=ndc_dcr_list_hist1[ndc_dcr_list_hist1['DROP_DATE']!=\"2024-09-03\"]"
   ]
  },
  {
   "cell_type": "code",
   "execution_count": 20,
   "id": "3e0cd100",
   "metadata": {},
   "outputs": [
    {
     "data": {
      "text/html": [
       "<div>\n",
       "<style scoped>\n",
       "    .dataframe tbody tr th:only-of-type {\n",
       "        vertical-align: middle;\n",
       "    }\n",
       "\n",
       "    .dataframe tbody tr th {\n",
       "        vertical-align: top;\n",
       "    }\n",
       "\n",
       "    .dataframe thead th {\n",
       "        text-align: right;\n",
       "    }\n",
       "</style>\n",
       "<table border=\"1\" class=\"dataframe\">\n",
       "  <thead>\n",
       "    <tr style=\"text-align: right;\">\n",
       "      <th></th>\n",
       "      <th>NDC_NBR</th>\n",
       "      <th>DCR_DRUG_LST_ID</th>\n",
       "      <th>INSERT_DATE</th>\n",
       "      <th>DROP_DATE</th>\n",
       "    </tr>\n",
       "  </thead>\n",
       "  <tbody>\n",
       "    <tr>\n",
       "      <th>0</th>\n",
       "      <td>10005</td>\n",
       "      <td>47.0</td>\n",
       "      <td>2021-08-15</td>\n",
       "      <td>2024-09-03</td>\n",
       "    </tr>\n",
       "    <tr>\n",
       "      <th>1</th>\n",
       "      <td>10005</td>\n",
       "      <td>48.0</td>\n",
       "      <td>2022-04-20</td>\n",
       "      <td>2024-09-03</td>\n",
       "    </tr>\n",
       "    <tr>\n",
       "      <th>4</th>\n",
       "      <td>10005</td>\n",
       "      <td>51.0</td>\n",
       "      <td>2022-09-01</td>\n",
       "      <td>2024-09-03</td>\n",
       "    </tr>\n",
       "    <tr>\n",
       "      <th>6</th>\n",
       "      <td>10005</td>\n",
       "      <td>53.0</td>\n",
       "      <td>2021-05-23</td>\n",
       "      <td>2024-09-03</td>\n",
       "    </tr>\n",
       "    <tr>\n",
       "      <th>7</th>\n",
       "      <td>10005</td>\n",
       "      <td>54.0</td>\n",
       "      <td>2021-08-09</td>\n",
       "      <td>2024-09-03</td>\n",
       "    </tr>\n",
       "    <tr>\n",
       "      <th>...</th>\n",
       "      <td>...</td>\n",
       "      <td>...</td>\n",
       "      <td>...</td>\n",
       "      <td>...</td>\n",
       "    </tr>\n",
       "    <tr>\n",
       "      <th>1923</th>\n",
       "      <td>10060</td>\n",
       "      <td>28.0</td>\n",
       "      <td>2022-09-01</td>\n",
       "      <td>2024-09-03</td>\n",
       "    </tr>\n",
       "    <tr>\n",
       "      <th>1924</th>\n",
       "      <td>10060</td>\n",
       "      <td>29.0</td>\n",
       "      <td>2021-04-07</td>\n",
       "      <td>2024-09-03</td>\n",
       "    </tr>\n",
       "    <tr>\n",
       "      <th>1925</th>\n",
       "      <td>10060</td>\n",
       "      <td>30.0</td>\n",
       "      <td>2022-04-20</td>\n",
       "      <td>2024-09-03</td>\n",
       "    </tr>\n",
       "    <tr>\n",
       "      <th>1926</th>\n",
       "      <td>10060</td>\n",
       "      <td>31.0</td>\n",
       "      <td>2021-04-03</td>\n",
       "      <td>2024-09-03</td>\n",
       "    </tr>\n",
       "    <tr>\n",
       "      <th>1927</th>\n",
       "      <td>10060</td>\n",
       "      <td>32.0</td>\n",
       "      <td>2022-09-01</td>\n",
       "      <td>2024-09-03</td>\n",
       "    </tr>\n",
       "  </tbody>\n",
       "</table>\n",
       "<p>1757 rows × 4 columns</p>\n",
       "</div>"
      ],
      "text/plain": [
       "      NDC_NBR  DCR_DRUG_LST_ID INSERT_DATE  DROP_DATE\n",
       "0       10005             47.0  2021-08-15 2024-09-03\n",
       "1       10005             48.0  2022-04-20 2024-09-03\n",
       "4       10005             51.0  2022-09-01 2024-09-03\n",
       "6       10005             53.0  2021-05-23 2024-09-03\n",
       "7       10005             54.0  2021-08-09 2024-09-03\n",
       "...       ...              ...         ...        ...\n",
       "1923    10060             28.0  2022-09-01 2024-09-03\n",
       "1924    10060             29.0  2021-04-07 2024-09-03\n",
       "1925    10060             30.0  2022-04-20 2024-09-03\n",
       "1926    10060             31.0  2021-04-03 2024-09-03\n",
       "1927    10060             32.0  2022-09-01 2024-09-03\n",
       "\n",
       "[1757 rows x 4 columns]"
      ]
     },
     "execution_count": 20,
     "metadata": {},
     "output_type": "execute_result"
    }
   ],
   "source": [
    "ndc_dcr_list_hist1_fudt"
   ]
  },
  {
   "cell_type": "code",
   "execution_count": 21,
   "id": "96ef3fc0",
   "metadata": {},
   "outputs": [
    {
     "data": {
      "text/plain": [
       "Index(['NDC_NBR', 'DCR_DRUG_LST_ID', 'INSERT_DATE', 'DROP_DATE'], dtype='object')"
      ]
     },
     "execution_count": 21,
     "metadata": {},
     "output_type": "execute_result"
    }
   ],
   "source": [
    "ndc_dcr_list_hist1_fudt.columns"
   ]
  },
  {
   "cell_type": "code",
   "execution_count": 22,
   "id": "0d1ea25c",
   "metadata": {},
   "outputs": [
    {
     "data": {
      "text/html": [
       "<div>\n",
       "<style scoped>\n",
       "    .dataframe tbody tr th:only-of-type {\n",
       "        vertical-align: middle;\n",
       "    }\n",
       "\n",
       "    .dataframe tbody tr th {\n",
       "        vertical-align: top;\n",
       "    }\n",
       "\n",
       "    .dataframe thead th {\n",
       "        text-align: right;\n",
       "    }\n",
       "</style>\n",
       "<table border=\"1\" class=\"dataframe\">\n",
       "  <thead>\n",
       "    <tr style=\"text-align: right;\">\n",
       "      <th></th>\n",
       "      <th>NDC_NBR</th>\n",
       "      <th>DCR_DRUG_LST_ID</th>\n",
       "      <th>INSERT_DATE</th>\n",
       "      <th>DROP_DATE</th>\n",
       "    </tr>\n",
       "  </thead>\n",
       "  <tbody>\n",
       "    <tr>\n",
       "      <th>2</th>\n",
       "      <td>10005</td>\n",
       "      <td>49.0</td>\n",
       "      <td>2020-07-15</td>\n",
       "      <td>2022-07-05</td>\n",
       "    </tr>\n",
       "    <tr>\n",
       "      <th>3</th>\n",
       "      <td>10005</td>\n",
       "      <td>50.0</td>\n",
       "      <td>2021-04-03</td>\n",
       "      <td>2022-07-05</td>\n",
       "    </tr>\n",
       "    <tr>\n",
       "      <th>5</th>\n",
       "      <td>10005</td>\n",
       "      <td>52.0</td>\n",
       "      <td>2021-04-07</td>\n",
       "      <td>2022-09-01</td>\n",
       "    </tr>\n",
       "    <tr>\n",
       "      <th>9</th>\n",
       "      <td>10005</td>\n",
       "      <td>56.0</td>\n",
       "      <td>2020-01-20</td>\n",
       "      <td>2022-09-01</td>\n",
       "    </tr>\n",
       "    <tr>\n",
       "      <th>13</th>\n",
       "      <td>10005</td>\n",
       "      <td>60.0</td>\n",
       "      <td>2022-07-05</td>\n",
       "      <td>2022-07-05</td>\n",
       "    </tr>\n",
       "    <tr>\n",
       "      <th>...</th>\n",
       "      <td>...</td>\n",
       "      <td>...</td>\n",
       "      <td>...</td>\n",
       "      <td>...</td>\n",
       "    </tr>\n",
       "    <tr>\n",
       "      <th>870</th>\n",
       "      <td>10025</td>\n",
       "      <td>28.0</td>\n",
       "      <td>2021-02-19</td>\n",
       "      <td>2022-04-20</td>\n",
       "    </tr>\n",
       "    <tr>\n",
       "      <th>874</th>\n",
       "      <td>10025</td>\n",
       "      <td>32.0</td>\n",
       "      <td>2022-04-20</td>\n",
       "      <td>2022-07-05</td>\n",
       "    </tr>\n",
       "    <tr>\n",
       "      <th>875</th>\n",
       "      <td>10025</td>\n",
       "      <td>33.0</td>\n",
       "      <td>2020-07-15</td>\n",
       "      <td>2022-04-20</td>\n",
       "    </tr>\n",
       "    <tr>\n",
       "      <th>881</th>\n",
       "      <td>10025</td>\n",
       "      <td>39.0</td>\n",
       "      <td>2022-03-01</td>\n",
       "      <td>2022-04-20</td>\n",
       "    </tr>\n",
       "    <tr>\n",
       "      <th>885</th>\n",
       "      <td>10025</td>\n",
       "      <td>43.0</td>\n",
       "      <td>2021-02-19</td>\n",
       "      <td>2022-07-05</td>\n",
       "    </tr>\n",
       "  </tbody>\n",
       "</table>\n",
       "<p>171 rows × 4 columns</p>\n",
       "</div>"
      ],
      "text/plain": [
       "     NDC_NBR  DCR_DRUG_LST_ID INSERT_DATE  DROP_DATE\n",
       "2      10005             49.0  2020-07-15 2022-07-05\n",
       "3      10005             50.0  2021-04-03 2022-07-05\n",
       "5      10005             52.0  2021-04-07 2022-09-01\n",
       "9      10005             56.0  2020-01-20 2022-09-01\n",
       "13     10005             60.0  2022-07-05 2022-07-05\n",
       "..       ...              ...         ...        ...\n",
       "870    10025             28.0  2021-02-19 2022-04-20\n",
       "874    10025             32.0  2022-04-20 2022-07-05\n",
       "875    10025             33.0  2020-07-15 2022-04-20\n",
       "881    10025             39.0  2022-03-01 2022-04-20\n",
       "885    10025             43.0  2021-02-19 2022-07-05\n",
       "\n",
       "[171 rows x 4 columns]"
      ]
     },
     "execution_count": 22,
     "metadata": {},
     "output_type": "execute_result"
    }
   ],
   "source": [
    "ndc_dcr_list_hist1_fudt_nt"
   ]
  },
  {
   "cell_type": "code",
   "execution_count": 23,
   "id": "674fcba7",
   "metadata": {},
   "outputs": [
    {
     "data": {
      "text/plain": [
       "Index(['NDC_NBR', 'DCR_DRUG_LST_ID'], dtype='object')"
      ]
     },
     "execution_count": 23,
     "metadata": {},
     "output_type": "execute_result"
    }
   ],
   "source": [
    "ndc_dcr_list.columns"
   ]
  },
  {
   "cell_type": "code",
   "execution_count": 24,
   "id": "b544d2d2",
   "metadata": {},
   "outputs": [
    {
     "data": {
      "text/plain": [
       "Index(['NDC_NBR', 'DCR_DRUG_LST_ID', 'INSERT_DATE', 'DROP_DATE'], dtype='object')"
      ]
     },
     "execution_count": 24,
     "metadata": {},
     "output_type": "execute_result"
    }
   ],
   "source": [
    "ndc_dcr_list_hist1_fudt.columns"
   ]
  },
  {
   "cell_type": "code",
   "execution_count": null,
   "id": "8ba7534c",
   "metadata": {},
   "outputs": [],
   "source": [
    "#merge ndc_dcr_list and ndc_dcr_list_hist1_fudt"
   ]
  },
  {
   "cell_type": "code",
   "execution_count": 25,
   "id": "e88499bd",
   "metadata": {},
   "outputs": [
    {
     "name": "stderr",
     "output_type": "stream",
     "text": [
      "C:\\Users\\DELL\\AppData\\Local\\Temp\\ipykernel_3928\\3925955819.py:1: UserWarning: You are merging on int and float columns where the float values are not equal to their int representation.\n",
      "  fudt_cr_merge=ndc_dcr_list[[\"NDC_NBR\",\"DCR_DRUG_LST_ID\"]].merge(ndc_dcr_list_hist1_fudt[[\"NDC_NBR\",\"DCR_DRUG_LST_ID\",\"INSERT_DATE\",\"DROP_DATE\"]],how=\"left\",on=[\"NDC_NBR\",\"DCR_DRUG_LST_ID\"])\n"
     ]
    }
   ],
   "source": [
    "fudt_cr_merge=ndc_dcr_list[[\"NDC_NBR\",\"DCR_DRUG_LST_ID\"]].merge(ndc_dcr_list_hist1_fudt[[\"NDC_NBR\",\"DCR_DRUG_LST_ID\",\"INSERT_DATE\",\"DROP_DATE\"]],how=\"left\",on=[\"NDC_NBR\",\"DCR_DRUG_LST_ID\"])"
   ]
  },
  {
   "cell_type": "code",
   "execution_count": 26,
   "id": "59e90ebe",
   "metadata": {},
   "outputs": [
    {
     "data": {
      "text/html": [
       "<div>\n",
       "<style scoped>\n",
       "    .dataframe tbody tr th:only-of-type {\n",
       "        vertical-align: middle;\n",
       "    }\n",
       "\n",
       "    .dataframe tbody tr th {\n",
       "        vertical-align: top;\n",
       "    }\n",
       "\n",
       "    .dataframe thead th {\n",
       "        text-align: right;\n",
       "    }\n",
       "</style>\n",
       "<table border=\"1\" class=\"dataframe\">\n",
       "  <thead>\n",
       "    <tr style=\"text-align: right;\">\n",
       "      <th></th>\n",
       "      <th>NDC_NBR</th>\n",
       "      <th>DCR_DRUG_LST_ID</th>\n",
       "      <th>INSERT_DATE</th>\n",
       "      <th>DROP_DATE</th>\n",
       "    </tr>\n",
       "  </thead>\n",
       "  <tbody>\n",
       "    <tr>\n",
       "      <th>0</th>\n",
       "      <td>10001</td>\n",
       "      <td>1</td>\n",
       "      <td>NaT</td>\n",
       "      <td>NaT</td>\n",
       "    </tr>\n",
       "    <tr>\n",
       "      <th>1</th>\n",
       "      <td>10001</td>\n",
       "      <td>2</td>\n",
       "      <td>NaT</td>\n",
       "      <td>NaT</td>\n",
       "    </tr>\n",
       "    <tr>\n",
       "      <th>2</th>\n",
       "      <td>10001</td>\n",
       "      <td>3</td>\n",
       "      <td>NaT</td>\n",
       "      <td>NaT</td>\n",
       "    </tr>\n",
       "    <tr>\n",
       "      <th>3</th>\n",
       "      <td>10001</td>\n",
       "      <td>4</td>\n",
       "      <td>NaT</td>\n",
       "      <td>NaT</td>\n",
       "    </tr>\n",
       "    <tr>\n",
       "      <th>4</th>\n",
       "      <td>10001</td>\n",
       "      <td>5</td>\n",
       "      <td>NaT</td>\n",
       "      <td>NaT</td>\n",
       "    </tr>\n",
       "    <tr>\n",
       "      <th>...</th>\n",
       "      <td>...</td>\n",
       "      <td>...</td>\n",
       "      <td>...</td>\n",
       "      <td>...</td>\n",
       "    </tr>\n",
       "    <tr>\n",
       "      <th>995</th>\n",
       "      <td>10025</td>\n",
       "      <td>44</td>\n",
       "      <td>2022-07-05</td>\n",
       "      <td>2024-09-03</td>\n",
       "    </tr>\n",
       "    <tr>\n",
       "      <th>996</th>\n",
       "      <td>10025</td>\n",
       "      <td>45</td>\n",
       "      <td>2020-02-09</td>\n",
       "      <td>2024-09-03</td>\n",
       "    </tr>\n",
       "    <tr>\n",
       "      <th>997</th>\n",
       "      <td>10025</td>\n",
       "      <td>46</td>\n",
       "      <td>2021-08-15</td>\n",
       "      <td>2024-09-03</td>\n",
       "    </tr>\n",
       "    <tr>\n",
       "      <th>998</th>\n",
       "      <td>10025</td>\n",
       "      <td>47</td>\n",
       "      <td>2022-04-20</td>\n",
       "      <td>2024-09-03</td>\n",
       "    </tr>\n",
       "    <tr>\n",
       "      <th>999</th>\n",
       "      <td>10025</td>\n",
       "      <td>48</td>\n",
       "      <td>2021-04-03</td>\n",
       "      <td>2024-09-03</td>\n",
       "    </tr>\n",
       "  </tbody>\n",
       "</table>\n",
       "<p>1000 rows × 4 columns</p>\n",
       "</div>"
      ],
      "text/plain": [
       "     NDC_NBR  DCR_DRUG_LST_ID INSERT_DATE  DROP_DATE\n",
       "0      10001                1         NaT        NaT\n",
       "1      10001                2         NaT        NaT\n",
       "2      10001                3         NaT        NaT\n",
       "3      10001                4         NaT        NaT\n",
       "4      10001                5         NaT        NaT\n",
       "..       ...              ...         ...        ...\n",
       "995    10025               44  2022-07-05 2024-09-03\n",
       "996    10025               45  2020-02-09 2024-09-03\n",
       "997    10025               46  2021-08-15 2024-09-03\n",
       "998    10025               47  2022-04-20 2024-09-03\n",
       "999    10025               48  2021-04-03 2024-09-03\n",
       "\n",
       "[1000 rows x 4 columns]"
      ]
     },
     "execution_count": 26,
     "metadata": {},
     "output_type": "execute_result"
    }
   ],
   "source": [
    "fudt_cr_merge"
   ]
  },
  {
   "cell_type": "code",
   "execution_count": 27,
   "id": "6be4f835",
   "metadata": {},
   "outputs": [
    {
     "data": {
      "text/plain": [
       "NDC_NBR                     int64\n",
       "DCR_DRUG_LST_ID             int64\n",
       "INSERT_DATE        datetime64[ns]\n",
       "DROP_DATE          datetime64[ns]\n",
       "dtype: object"
      ]
     },
     "execution_count": 27,
     "metadata": {},
     "output_type": "execute_result"
    }
   ],
   "source": [
    "fudt_cr_merge.dtypes"
   ]
  },
  {
   "cell_type": "code",
   "execution_count": null,
   "id": "f4cf98fa",
   "metadata": {},
   "outputs": [],
   "source": [
    "#filter fudt_cr_merge[\"DROP_DATE\"]==\"2024-09-03\""
   ]
  },
  {
   "cell_type": "code",
   "execution_count": 28,
   "id": "3d1fa87f",
   "metadata": {},
   "outputs": [],
   "source": [
    "fudt_cr_merge_fil=fudt_cr_merge[fudt_cr_merge[\"DROP_DATE\"]==\"2024-09-03\"]"
   ]
  },
  {
   "cell_type": "code",
   "execution_count": 29,
   "id": "237e7457",
   "metadata": {},
   "outputs": [
    {
     "data": {
      "text/html": [
       "<div>\n",
       "<style scoped>\n",
       "    .dataframe tbody tr th:only-of-type {\n",
       "        vertical-align: middle;\n",
       "    }\n",
       "\n",
       "    .dataframe tbody tr th {\n",
       "        vertical-align: top;\n",
       "    }\n",
       "\n",
       "    .dataframe thead th {\n",
       "        text-align: right;\n",
       "    }\n",
       "</style>\n",
       "<table border=\"1\" class=\"dataframe\">\n",
       "  <thead>\n",
       "    <tr style=\"text-align: right;\">\n",
       "      <th></th>\n",
       "      <th>NDC_NBR</th>\n",
       "      <th>DCR_DRUG_LST_ID</th>\n",
       "      <th>INSERT_DATE</th>\n",
       "      <th>DROP_DATE</th>\n",
       "    </tr>\n",
       "  </thead>\n",
       "  <tbody>\n",
       "    <tr>\n",
       "      <th>109</th>\n",
       "      <td>10005</td>\n",
       "      <td>47</td>\n",
       "      <td>2021-08-15</td>\n",
       "      <td>2024-09-03</td>\n",
       "    </tr>\n",
       "    <tr>\n",
       "      <th>110</th>\n",
       "      <td>10005</td>\n",
       "      <td>48</td>\n",
       "      <td>2022-04-20</td>\n",
       "      <td>2024-09-03</td>\n",
       "    </tr>\n",
       "    <tr>\n",
       "      <th>113</th>\n",
       "      <td>10005</td>\n",
       "      <td>51</td>\n",
       "      <td>2022-09-01</td>\n",
       "      <td>2024-09-03</td>\n",
       "    </tr>\n",
       "    <tr>\n",
       "      <th>115</th>\n",
       "      <td>10005</td>\n",
       "      <td>53</td>\n",
       "      <td>2021-05-23</td>\n",
       "      <td>2024-09-03</td>\n",
       "    </tr>\n",
       "    <tr>\n",
       "      <th>116</th>\n",
       "      <td>10005</td>\n",
       "      <td>54</td>\n",
       "      <td>2021-08-09</td>\n",
       "      <td>2024-09-03</td>\n",
       "    </tr>\n",
       "    <tr>\n",
       "      <th>...</th>\n",
       "      <td>...</td>\n",
       "      <td>...</td>\n",
       "      <td>...</td>\n",
       "      <td>...</td>\n",
       "    </tr>\n",
       "    <tr>\n",
       "      <th>995</th>\n",
       "      <td>10025</td>\n",
       "      <td>44</td>\n",
       "      <td>2022-07-05</td>\n",
       "      <td>2024-09-03</td>\n",
       "    </tr>\n",
       "    <tr>\n",
       "      <th>996</th>\n",
       "      <td>10025</td>\n",
       "      <td>45</td>\n",
       "      <td>2020-02-09</td>\n",
       "      <td>2024-09-03</td>\n",
       "    </tr>\n",
       "    <tr>\n",
       "      <th>997</th>\n",
       "      <td>10025</td>\n",
       "      <td>46</td>\n",
       "      <td>2021-08-15</td>\n",
       "      <td>2024-09-03</td>\n",
       "    </tr>\n",
       "    <tr>\n",
       "      <th>998</th>\n",
       "      <td>10025</td>\n",
       "      <td>47</td>\n",
       "      <td>2022-04-20</td>\n",
       "      <td>2024-09-03</td>\n",
       "    </tr>\n",
       "    <tr>\n",
       "      <th>999</th>\n",
       "      <td>10025</td>\n",
       "      <td>48</td>\n",
       "      <td>2021-04-03</td>\n",
       "      <td>2024-09-03</td>\n",
       "    </tr>\n",
       "  </tbody>\n",
       "</table>\n",
       "<p>718 rows × 4 columns</p>\n",
       "</div>"
      ],
      "text/plain": [
       "     NDC_NBR  DCR_DRUG_LST_ID INSERT_DATE  DROP_DATE\n",
       "109    10005               47  2021-08-15 2024-09-03\n",
       "110    10005               48  2022-04-20 2024-09-03\n",
       "113    10005               51  2022-09-01 2024-09-03\n",
       "115    10005               53  2021-05-23 2024-09-03\n",
       "116    10005               54  2021-08-09 2024-09-03\n",
       "..       ...              ...         ...        ...\n",
       "995    10025               44  2022-07-05 2024-09-03\n",
       "996    10025               45  2020-02-09 2024-09-03\n",
       "997    10025               46  2021-08-15 2024-09-03\n",
       "998    10025               47  2022-04-20 2024-09-03\n",
       "999    10025               48  2021-04-03 2024-09-03\n",
       "\n",
       "[718 rows x 4 columns]"
      ]
     },
     "execution_count": 29,
     "metadata": {},
     "output_type": "execute_result"
    }
   ],
   "source": [
    "fudt_cr_merge_fil"
   ]
  },
  {
   "cell_type": "code",
   "execution_count": null,
   "id": "c7ffbd88",
   "metadata": {},
   "outputs": [],
   "source": [
    "#update dropdate into current date"
   ]
  },
  {
   "cell_type": "code",
   "execution_count": 30,
   "id": "4aa98fdf",
   "metadata": {},
   "outputs": [
    {
     "name": "stderr",
     "output_type": "stream",
     "text": [
      "C:\\Users\\DELL\\AppData\\Local\\Temp\\ipykernel_3928\\2676315416.py:1: SettingWithCopyWarning: \n",
      "A value is trying to be set on a copy of a slice from a DataFrame.\n",
      "Try using .loc[row_indexer,col_indexer] = value instead\n",
      "\n",
      "See the caveats in the documentation: https://pandas.pydata.org/pandas-docs/stable/user_guide/indexing.html#returning-a-view-versus-a-copy\n",
      "  fudt_cr_merge_fil[\"DROP_DATE\"]=np.where(fudt_cr_merge_fil[\"DROP_DATE\"]==\"2024-09-03\",current_date,fudt_cr_merge_fil[\"DROP_DATE\"])\n"
     ]
    }
   ],
   "source": [
    "fudt_cr_merge_fil[\"DROP_DATE\"]=np.where(fudt_cr_merge_fil[\"DROP_DATE\"]==\"2024-09-03\",current_date,fudt_cr_merge_fil[\"DROP_DATE\"])"
   ]
  },
  {
   "cell_type": "code",
   "execution_count": 31,
   "id": "18ac7642",
   "metadata": {},
   "outputs": [
    {
     "data": {
      "text/html": [
       "<div>\n",
       "<style scoped>\n",
       "    .dataframe tbody tr th:only-of-type {\n",
       "        vertical-align: middle;\n",
       "    }\n",
       "\n",
       "    .dataframe tbody tr th {\n",
       "        vertical-align: top;\n",
       "    }\n",
       "\n",
       "    .dataframe thead th {\n",
       "        text-align: right;\n",
       "    }\n",
       "</style>\n",
       "<table border=\"1\" class=\"dataframe\">\n",
       "  <thead>\n",
       "    <tr style=\"text-align: right;\">\n",
       "      <th></th>\n",
       "      <th>NDC_NBR</th>\n",
       "      <th>DCR_DRUG_LST_ID</th>\n",
       "      <th>INSERT_DATE</th>\n",
       "      <th>DROP_DATE</th>\n",
       "    </tr>\n",
       "  </thead>\n",
       "  <tbody>\n",
       "    <tr>\n",
       "      <th>109</th>\n",
       "      <td>10005</td>\n",
       "      <td>47</td>\n",
       "      <td>2021-08-15</td>\n",
       "      <td>2023-09-05</td>\n",
       "    </tr>\n",
       "    <tr>\n",
       "      <th>110</th>\n",
       "      <td>10005</td>\n",
       "      <td>48</td>\n",
       "      <td>2022-04-20</td>\n",
       "      <td>2023-09-05</td>\n",
       "    </tr>\n",
       "    <tr>\n",
       "      <th>113</th>\n",
       "      <td>10005</td>\n",
       "      <td>51</td>\n",
       "      <td>2022-09-01</td>\n",
       "      <td>2023-09-05</td>\n",
       "    </tr>\n",
       "    <tr>\n",
       "      <th>115</th>\n",
       "      <td>10005</td>\n",
       "      <td>53</td>\n",
       "      <td>2021-05-23</td>\n",
       "      <td>2023-09-05</td>\n",
       "    </tr>\n",
       "    <tr>\n",
       "      <th>116</th>\n",
       "      <td>10005</td>\n",
       "      <td>54</td>\n",
       "      <td>2021-08-09</td>\n",
       "      <td>2023-09-05</td>\n",
       "    </tr>\n",
       "    <tr>\n",
       "      <th>...</th>\n",
       "      <td>...</td>\n",
       "      <td>...</td>\n",
       "      <td>...</td>\n",
       "      <td>...</td>\n",
       "    </tr>\n",
       "    <tr>\n",
       "      <th>995</th>\n",
       "      <td>10025</td>\n",
       "      <td>44</td>\n",
       "      <td>2022-07-05</td>\n",
       "      <td>2023-09-05</td>\n",
       "    </tr>\n",
       "    <tr>\n",
       "      <th>996</th>\n",
       "      <td>10025</td>\n",
       "      <td>45</td>\n",
       "      <td>2020-02-09</td>\n",
       "      <td>2023-09-05</td>\n",
       "    </tr>\n",
       "    <tr>\n",
       "      <th>997</th>\n",
       "      <td>10025</td>\n",
       "      <td>46</td>\n",
       "      <td>2021-08-15</td>\n",
       "      <td>2023-09-05</td>\n",
       "    </tr>\n",
       "    <tr>\n",
       "      <th>998</th>\n",
       "      <td>10025</td>\n",
       "      <td>47</td>\n",
       "      <td>2022-04-20</td>\n",
       "      <td>2023-09-05</td>\n",
       "    </tr>\n",
       "    <tr>\n",
       "      <th>999</th>\n",
       "      <td>10025</td>\n",
       "      <td>48</td>\n",
       "      <td>2021-04-03</td>\n",
       "      <td>2023-09-05</td>\n",
       "    </tr>\n",
       "  </tbody>\n",
       "</table>\n",
       "<p>718 rows × 4 columns</p>\n",
       "</div>"
      ],
      "text/plain": [
       "     NDC_NBR  DCR_DRUG_LST_ID INSERT_DATE   DROP_DATE\n",
       "109    10005               47  2021-08-15  2023-09-05\n",
       "110    10005               48  2022-04-20  2023-09-05\n",
       "113    10005               51  2022-09-01  2023-09-05\n",
       "115    10005               53  2021-05-23  2023-09-05\n",
       "116    10005               54  2021-08-09  2023-09-05\n",
       "..       ...              ...         ...         ...\n",
       "995    10025               44  2022-07-05  2023-09-05\n",
       "996    10025               45  2020-02-09  2023-09-05\n",
       "997    10025               46  2021-08-15  2023-09-05\n",
       "998    10025               47  2022-04-20  2023-09-05\n",
       "999    10025               48  2021-04-03  2023-09-05\n",
       "\n",
       "[718 rows x 4 columns]"
      ]
     },
     "execution_count": 31,
     "metadata": {},
     "output_type": "execute_result"
    }
   ],
   "source": [
    "fudt_cr_merge_fil"
   ]
  },
  {
   "cell_type": "code",
   "execution_count": 32,
   "id": "12c97f71",
   "metadata": {},
   "outputs": [
    {
     "data": {
      "text/plain": [
       "NDC_NBR                     int64\n",
       "DCR_DRUG_LST_ID             int64\n",
       "INSERT_DATE        datetime64[ns]\n",
       "DROP_DATE                  object\n",
       "dtype: object"
      ]
     },
     "execution_count": 32,
     "metadata": {},
     "output_type": "execute_result"
    }
   ],
   "source": [
    "fudt_cr_merge_fil.dtypes"
   ]
  },
  {
   "cell_type": "code",
   "execution_count": 33,
   "id": "2764c76b",
   "metadata": {},
   "outputs": [
    {
     "name": "stderr",
     "output_type": "stream",
     "text": [
      "C:\\Users\\DELL\\AppData\\Local\\Temp\\ipykernel_3928\\594712248.py:1: SettingWithCopyWarning: \n",
      "A value is trying to be set on a copy of a slice from a DataFrame.\n",
      "Try using .loc[row_indexer,col_indexer] = value instead\n",
      "\n",
      "See the caveats in the documentation: https://pandas.pydata.org/pandas-docs/stable/user_guide/indexing.html#returning-a-view-versus-a-copy\n",
      "  fudt_cr_merge_fil[\"DROP_DATE\"]=fudt_cr_merge_fil[\"DROP_DATE\"].astype(\"datetime64[ns]\")\n"
     ]
    }
   ],
   "source": [
    "fudt_cr_merge_fil[\"DROP_DATE\"]=fudt_cr_merge_fil[\"DROP_DATE\"].astype(\"datetime64[ns]\")"
   ]
  },
  {
   "cell_type": "code",
   "execution_count": 34,
   "id": "92d6b899",
   "metadata": {},
   "outputs": [
    {
     "data": {
      "text/plain": [
       "NDC_NBR                     int64\n",
       "DCR_DRUG_LST_ID             int64\n",
       "INSERT_DATE        datetime64[ns]\n",
       "DROP_DATE          datetime64[ns]\n",
       "dtype: object"
      ]
     },
     "execution_count": 34,
     "metadata": {},
     "output_type": "execute_result"
    }
   ],
   "source": [
    "fudt_cr_merge_fil.dtypes"
   ]
  },
  {
   "cell_type": "code",
   "execution_count": 35,
   "id": "0f8957fa",
   "metadata": {},
   "outputs": [],
   "source": [
    "#append ndc_dcr_list_hist1_fudt_nt,fudt_cr_merge_fil"
   ]
  },
  {
   "cell_type": "code",
   "execution_count": 36,
   "id": "16539fcf",
   "metadata": {},
   "outputs": [],
   "source": [
    "append_fudt_nt_cr_fil=pd.concat([ndc_dcr_list_hist1_fudt_nt,fudt_cr_merge_fil],axis=0,ignore_index=True)"
   ]
  },
  {
   "cell_type": "code",
   "execution_count": 37,
   "id": "ac3d481f",
   "metadata": {},
   "outputs": [
    {
     "data": {
      "text/html": [
       "<div>\n",
       "<style scoped>\n",
       "    .dataframe tbody tr th:only-of-type {\n",
       "        vertical-align: middle;\n",
       "    }\n",
       "\n",
       "    .dataframe tbody tr th {\n",
       "        vertical-align: top;\n",
       "    }\n",
       "\n",
       "    .dataframe thead th {\n",
       "        text-align: right;\n",
       "    }\n",
       "</style>\n",
       "<table border=\"1\" class=\"dataframe\">\n",
       "  <thead>\n",
       "    <tr style=\"text-align: right;\">\n",
       "      <th></th>\n",
       "      <th>NDC_NBR</th>\n",
       "      <th>DCR_DRUG_LST_ID</th>\n",
       "      <th>INSERT_DATE</th>\n",
       "      <th>DROP_DATE</th>\n",
       "    </tr>\n",
       "  </thead>\n",
       "  <tbody>\n",
       "    <tr>\n",
       "      <th>0</th>\n",
       "      <td>10005</td>\n",
       "      <td>49.0</td>\n",
       "      <td>2020-07-15</td>\n",
       "      <td>2022-07-05</td>\n",
       "    </tr>\n",
       "    <tr>\n",
       "      <th>1</th>\n",
       "      <td>10005</td>\n",
       "      <td>50.0</td>\n",
       "      <td>2021-04-03</td>\n",
       "      <td>2022-07-05</td>\n",
       "    </tr>\n",
       "    <tr>\n",
       "      <th>2</th>\n",
       "      <td>10005</td>\n",
       "      <td>52.0</td>\n",
       "      <td>2021-04-07</td>\n",
       "      <td>2022-09-01</td>\n",
       "    </tr>\n",
       "    <tr>\n",
       "      <th>3</th>\n",
       "      <td>10005</td>\n",
       "      <td>56.0</td>\n",
       "      <td>2020-01-20</td>\n",
       "      <td>2022-09-01</td>\n",
       "    </tr>\n",
       "    <tr>\n",
       "      <th>4</th>\n",
       "      <td>10005</td>\n",
       "      <td>60.0</td>\n",
       "      <td>2022-07-05</td>\n",
       "      <td>2022-07-05</td>\n",
       "    </tr>\n",
       "    <tr>\n",
       "      <th>...</th>\n",
       "      <td>...</td>\n",
       "      <td>...</td>\n",
       "      <td>...</td>\n",
       "      <td>...</td>\n",
       "    </tr>\n",
       "    <tr>\n",
       "      <th>884</th>\n",
       "      <td>10025</td>\n",
       "      <td>44.0</td>\n",
       "      <td>2022-07-05</td>\n",
       "      <td>2023-09-05</td>\n",
       "    </tr>\n",
       "    <tr>\n",
       "      <th>885</th>\n",
       "      <td>10025</td>\n",
       "      <td>45.0</td>\n",
       "      <td>2020-02-09</td>\n",
       "      <td>2023-09-05</td>\n",
       "    </tr>\n",
       "    <tr>\n",
       "      <th>886</th>\n",
       "      <td>10025</td>\n",
       "      <td>46.0</td>\n",
       "      <td>2021-08-15</td>\n",
       "      <td>2023-09-05</td>\n",
       "    </tr>\n",
       "    <tr>\n",
       "      <th>887</th>\n",
       "      <td>10025</td>\n",
       "      <td>47.0</td>\n",
       "      <td>2022-04-20</td>\n",
       "      <td>2023-09-05</td>\n",
       "    </tr>\n",
       "    <tr>\n",
       "      <th>888</th>\n",
       "      <td>10025</td>\n",
       "      <td>48.0</td>\n",
       "      <td>2021-04-03</td>\n",
       "      <td>2023-09-05</td>\n",
       "    </tr>\n",
       "  </tbody>\n",
       "</table>\n",
       "<p>889 rows × 4 columns</p>\n",
       "</div>"
      ],
      "text/plain": [
       "     NDC_NBR  DCR_DRUG_LST_ID INSERT_DATE  DROP_DATE\n",
       "0      10005             49.0  2020-07-15 2022-07-05\n",
       "1      10005             50.0  2021-04-03 2022-07-05\n",
       "2      10005             52.0  2021-04-07 2022-09-01\n",
       "3      10005             56.0  2020-01-20 2022-09-01\n",
       "4      10005             60.0  2022-07-05 2022-07-05\n",
       "..       ...              ...         ...        ...\n",
       "884    10025             44.0  2022-07-05 2023-09-05\n",
       "885    10025             45.0  2020-02-09 2023-09-05\n",
       "886    10025             46.0  2021-08-15 2023-09-05\n",
       "887    10025             47.0  2022-04-20 2023-09-05\n",
       "888    10025             48.0  2021-04-03 2023-09-05\n",
       "\n",
       "[889 rows x 4 columns]"
      ]
     },
     "execution_count": 37,
     "metadata": {},
     "output_type": "execute_result"
    }
   ],
   "source": [
    "append_fudt_nt_cr_fil"
   ]
  },
  {
   "cell_type": "code",
   "execution_count": 38,
   "id": "a758ea4d",
   "metadata": {},
   "outputs": [
    {
     "data": {
      "text/html": [
       "<div>\n",
       "<style scoped>\n",
       "    .dataframe tbody tr th:only-of-type {\n",
       "        vertical-align: middle;\n",
       "    }\n",
       "\n",
       "    .dataframe tbody tr th {\n",
       "        vertical-align: top;\n",
       "    }\n",
       "\n",
       "    .dataframe thead th {\n",
       "        text-align: right;\n",
       "    }\n",
       "</style>\n",
       "<table border=\"1\" class=\"dataframe\">\n",
       "  <thead>\n",
       "    <tr style=\"text-align: right;\">\n",
       "      <th></th>\n",
       "      <th>NDC_NBR</th>\n",
       "      <th>DCR_DRUG_LST_ID</th>\n",
       "      <th>INSERT_DATE</th>\n",
       "      <th>DROP_DATE</th>\n",
       "    </tr>\n",
       "  </thead>\n",
       "  <tbody>\n",
       "    <tr>\n",
       "      <th>0</th>\n",
       "      <td>10005</td>\n",
       "      <td>49.0</td>\n",
       "      <td>2020-07-15</td>\n",
       "      <td>2022-07-05</td>\n",
       "    </tr>\n",
       "    <tr>\n",
       "      <th>1</th>\n",
       "      <td>10005</td>\n",
       "      <td>50.0</td>\n",
       "      <td>2021-04-03</td>\n",
       "      <td>2022-07-05</td>\n",
       "    </tr>\n",
       "    <tr>\n",
       "      <th>2</th>\n",
       "      <td>10005</td>\n",
       "      <td>52.0</td>\n",
       "      <td>2021-04-07</td>\n",
       "      <td>2022-09-01</td>\n",
       "    </tr>\n",
       "    <tr>\n",
       "      <th>3</th>\n",
       "      <td>10005</td>\n",
       "      <td>56.0</td>\n",
       "      <td>2020-01-20</td>\n",
       "      <td>2022-09-01</td>\n",
       "    </tr>\n",
       "    <tr>\n",
       "      <th>4</th>\n",
       "      <td>10005</td>\n",
       "      <td>60.0</td>\n",
       "      <td>2022-07-05</td>\n",
       "      <td>2022-07-05</td>\n",
       "    </tr>\n",
       "    <tr>\n",
       "      <th>...</th>\n",
       "      <td>...</td>\n",
       "      <td>...</td>\n",
       "      <td>...</td>\n",
       "      <td>...</td>\n",
       "    </tr>\n",
       "    <tr>\n",
       "      <th>884</th>\n",
       "      <td>10025</td>\n",
       "      <td>44.0</td>\n",
       "      <td>2022-07-05</td>\n",
       "      <td>2023-09-05</td>\n",
       "    </tr>\n",
       "    <tr>\n",
       "      <th>885</th>\n",
       "      <td>10025</td>\n",
       "      <td>45.0</td>\n",
       "      <td>2020-02-09</td>\n",
       "      <td>2023-09-05</td>\n",
       "    </tr>\n",
       "    <tr>\n",
       "      <th>886</th>\n",
       "      <td>10025</td>\n",
       "      <td>46.0</td>\n",
       "      <td>2021-08-15</td>\n",
       "      <td>2023-09-05</td>\n",
       "    </tr>\n",
       "    <tr>\n",
       "      <th>887</th>\n",
       "      <td>10025</td>\n",
       "      <td>47.0</td>\n",
       "      <td>2022-04-20</td>\n",
       "      <td>2023-09-05</td>\n",
       "    </tr>\n",
       "    <tr>\n",
       "      <th>888</th>\n",
       "      <td>10025</td>\n",
       "      <td>48.0</td>\n",
       "      <td>2021-04-03</td>\n",
       "      <td>2023-09-05</td>\n",
       "    </tr>\n",
       "  </tbody>\n",
       "</table>\n",
       "<p>889 rows × 4 columns</p>\n",
       "</div>"
      ],
      "text/plain": [
       "     NDC_NBR  DCR_DRUG_LST_ID INSERT_DATE  DROP_DATE\n",
       "0      10005             49.0  2020-07-15 2022-07-05\n",
       "1      10005             50.0  2021-04-03 2022-07-05\n",
       "2      10005             52.0  2021-04-07 2022-09-01\n",
       "3      10005             56.0  2020-01-20 2022-09-01\n",
       "4      10005             60.0  2022-07-05 2022-07-05\n",
       "..       ...              ...         ...        ...\n",
       "884    10025             44.0  2022-07-05 2023-09-05\n",
       "885    10025             45.0  2020-02-09 2023-09-05\n",
       "886    10025             46.0  2021-08-15 2023-09-05\n",
       "887    10025             47.0  2022-04-20 2023-09-05\n",
       "888    10025             48.0  2021-04-03 2023-09-05\n",
       "\n",
       "[889 rows x 4 columns]"
      ]
     },
     "execution_count": 38,
     "metadata": {},
     "output_type": "execute_result"
    }
   ],
   "source": [
    "append_fudt_nt_cr_fil"
   ]
  },
  {
   "cell_type": "code",
   "execution_count": 39,
   "id": "2ff142be",
   "metadata": {},
   "outputs": [
    {
     "name": "stdout",
     "output_type": "stream",
     "text": [
      "2023-09-02\n"
     ]
    }
   ],
   "source": [
    "import datetime\n",
    "Previous_Date = datetime.datetime.today() - datetime.timedelta(days=3)\n",
    "Previous_Date_Formatted = Previous_Date.strftime ('%Y-%m-%d') # format the date to ddmmyyyy\n",
    "print (str(Previous_Date_Formatted))\n",
    " "
   ]
  },
  {
   "cell_type": "code",
   "execution_count": 40,
   "id": "7cabefed",
   "metadata": {},
   "outputs": [],
   "source": [
    "previous_D=(str(Previous_Date_Formatted))"
   ]
  },
  {
   "cell_type": "code",
   "execution_count": 41,
   "id": "06f325c1",
   "metadata": {},
   "outputs": [
    {
     "data": {
      "text/plain": [
       "'2023-09-02'"
      ]
     },
     "execution_count": 41,
     "metadata": {},
     "output_type": "execute_result"
    }
   ],
   "source": [
    "previous_D"
   ]
  },
  {
   "cell_type": "code",
   "execution_count": 43,
   "id": "6e954ea6",
   "metadata": {},
   "outputs": [
    {
     "ename": "TypeError",
     "evalue": "unsupported operand type(s) for -: 'datetime.date' and 'int'",
     "output_type": "error",
     "traceback": [
      "\u001b[1;31m---------------------------------------------------------------------------\u001b[0m",
      "\u001b[1;31mTypeError\u001b[0m                                 Traceback (most recent call last)",
      "Cell \u001b[1;32mIn[43], line 2\u001b[0m\n\u001b[0;32m      1\u001b[0m append_fudt_nt_cr_fil[\u001b[38;5;124m\"\u001b[39m\u001b[38;5;124mDROP_DATE\u001b[39m\u001b[38;5;124m\"\u001b[39m]\u001b[38;5;241m=\u001b[39mnp\u001b[38;5;241m.\u001b[39mwhere((append_fudt_nt_cr_fil[\u001b[38;5;124m\"\u001b[39m\u001b[38;5;124mDROP_DATE\u001b[39m\u001b[38;5;124m\"\u001b[39m]\u001b[38;5;241m==\u001b[39m\u001b[38;5;124m\"\u001b[39m\u001b[38;5;124m2024-09-03\u001b[39m\u001b[38;5;124m\"\u001b[39m) \u001b[38;5;241m|\u001b[39m\n\u001b[1;32m----> 2\u001b[0m                                             (append_fudt_nt_cr_fil[\u001b[38;5;124m\"\u001b[39m\u001b[38;5;124mDROP_DATE\u001b[39m\u001b[38;5;124m\"\u001b[39m]\u001b[38;5;241m<\u001b[39m\u001b[38;5;241m=\u001b[39m current_date\u001b[38;5;241m-\u001b[39m\u001b[38;5;241m3\u001b[39m),\u001b[38;5;124m\"\u001b[39m\u001b[38;5;124mYes\u001b[39m\u001b[38;5;124m\"\u001b[39m,\u001b[38;5;124m\"\u001b[39m\u001b[38;5;124mNo\u001b[39m\u001b[38;5;124m\"\u001b[39m)\n",
      "\u001b[1;31mTypeError\u001b[0m: unsupported operand type(s) for -: 'datetime.date' and 'int'"
     ]
    }
   ],
   "source": [
    "\n",
    "append_fudt_nt_cr_fil[\"DROP_DATE\"]=np.where((append_fudt_nt_cr_fil[\"DROP_DATE\"]==\"2024-09-03\") |\n",
    "                                            (append_fudt_nt_cr_fil[\"DROP_DATE\"]< current_date-3),\"Yes\",\"No\")"
   ]
  },
  {
   "cell_type": "code",
   "execution_count": null,
   "id": "3ae4fa7c",
   "metadata": {},
   "outputs": [],
   "source": []
  },
  {
   "cell_type": "code",
   "execution_count": 45,
   "id": "8af034b1",
   "metadata": {},
   "outputs": [
    {
     "ename": "TypeError",
     "evalue": "The DType <class 'numpy.dtype[str_]'> could not be promoted by <class 'numpy.dtype[datetime64]'>. This means that no common DType exists for the given inputs. For example they cannot be stored in a single array unless the dtype is `object`. The full list of DTypes is: (<class 'numpy.dtype[str_]'>, <class 'numpy.dtype[datetime64]'>)",
     "output_type": "error",
     "traceback": [
      "\u001b[1;31m---------------------------------------------------------------------------\u001b[0m",
      "\u001b[1;31mTypeError\u001b[0m                                 Traceback (most recent call last)",
      "Cell \u001b[1;32mIn[45], line 1\u001b[0m\n\u001b[1;32m----> 1\u001b[0m append_fudt_nt_cr_fil[\u001b[38;5;124m\"\u001b[39m\u001b[38;5;124mDROP_DATE\u001b[39m\u001b[38;5;124m\"\u001b[39m]\u001b[38;5;241m=\u001b[39mnp\u001b[38;5;241m.\u001b[39mwhere(append_fudt_nt_cr_fil[\u001b[38;5;124m\"\u001b[39m\u001b[38;5;124mDROP_DATE\u001b[39m\u001b[38;5;124m\"\u001b[39m]\u001b[38;5;241m==\u001b[39mcurrent_date,previous_D,append_fudt_nt_cr_fil[\u001b[38;5;124m\"\u001b[39m\u001b[38;5;124mDROP_DATE\u001b[39m\u001b[38;5;124m\"\u001b[39m])\n",
      "File \u001b[1;32m<__array_function__ internals>:200\u001b[0m, in \u001b[0;36mwhere\u001b[1;34m(*args, **kwargs)\u001b[0m\n",
      "\u001b[1;31mTypeError\u001b[0m: The DType <class 'numpy.dtype[str_]'> could not be promoted by <class 'numpy.dtype[datetime64]'>. This means that no common DType exists for the given inputs. For example they cannot be stored in a single array unless the dtype is `object`. The full list of DTypes is: (<class 'numpy.dtype[str_]'>, <class 'numpy.dtype[datetime64]'>)"
     ]
    }
   ],
   "source": [
    "\n",
    "append_fudt_nt_cr_fil[\"DROP_DATE\"]=np.where(append_fudt_nt_cr_fil[\"DROP_DATE\"]==current_date,previous_D,append_fudt_nt_cr_fil[\"DROP_DATE\"])"
   ]
  },
  {
   "cell_type": "code",
   "execution_count": null,
   "id": "718bca5f",
   "metadata": {},
   "outputs": [],
   "source": []
  },
  {
   "cell_type": "code",
   "execution_count": null,
   "id": "7b8c53e5",
   "metadata": {},
   "outputs": [],
   "source": []
  },
  {
   "cell_type": "code",
   "execution_count": null,
   "id": "6082880d",
   "metadata": {},
   "outputs": [],
   "source": []
  },
  {
   "cell_type": "code",
   "execution_count": null,
   "id": "4ea3aa27",
   "metadata": {},
   "outputs": [],
   "source": []
  }
 ],
 "metadata": {
  "kernelspec": {
   "display_name": "Python 3 (ipykernel)",
   "language": "python",
   "name": "python3"
  },
  "language_info": {
   "codemirror_mode": {
    "name": "ipython",
    "version": 3
   },
   "file_extension": ".py",
   "mimetype": "text/x-python",
   "name": "python",
   "nbconvert_exporter": "python",
   "pygments_lexer": "ipython3",
   "version": "3.11.4"
  }
 },
 "nbformat": 4,
 "nbformat_minor": 5
}
